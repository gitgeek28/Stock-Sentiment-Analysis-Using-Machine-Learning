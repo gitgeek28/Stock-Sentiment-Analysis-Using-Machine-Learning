{
  "cells": [
    {
      "cell_type": "markdown",
      "metadata": {
        "id": "view-in-github",
        "colab_type": "text"
      },
      "source": [
        "<a href=\"https://colab.research.google.com/github/gitgeek28/Stock-Sentiment-Analysis-Using-Machine-Learning/blob/main/SentimentAnalysis.ipynb\" target=\"_parent\"><img src=\"https://colab.research.google.com/assets/colab-badge.svg\" alt=\"Open In Colab\"/></a>"
      ]
    },
    {
      "cell_type": "markdown",
      "metadata": {
        "id": "3BpHncvHXrzk"
      },
      "source": [
        "# ***STOCK SENTIMENT ANALYSIS OF APPLE, GOOGLE AND AMAZON***"
      ]
    },
    {
      "cell_type": "markdown",
      "source": [
        "# **STOCK SENTIMENT ANALYSIS OF APPLE**"
      ],
      "metadata": {
        "id": "F1_YPI2H3rKg"
      }
    },
    {
      "cell_type": "code",
      "execution_count": null,
      "metadata": {
        "colab": {
          "base_uri": "https://localhost:8080/"
        },
        "id": "wGnbi0pxVK_r",
        "outputId": "957e8b02-345c-4055-95da-e4b9053abcc7"
      },
      "outputs": [
        {
          "output_type": "stream",
          "name": "stdout",
          "text": [
            "Requirement already satisfied: requests in /usr/local/lib/python3.10/dist-packages (2.31.0)\n",
            "Requirement already satisfied: beautifulsoup4 in /usr/local/lib/python3.10/dist-packages (4.12.3)\n",
            "Requirement already satisfied: pandas in /usr/local/lib/python3.10/dist-packages (2.0.3)\n",
            "Requirement already satisfied: charset-normalizer<4,>=2 in /usr/local/lib/python3.10/dist-packages (from requests) (3.3.2)\n",
            "Requirement already satisfied: idna<4,>=2.5 in /usr/local/lib/python3.10/dist-packages (from requests) (3.7)\n",
            "Requirement already satisfied: urllib3<3,>=1.21.1 in /usr/local/lib/python3.10/dist-packages (from requests) (2.0.7)\n",
            "Requirement already satisfied: certifi>=2017.4.17 in /usr/local/lib/python3.10/dist-packages (from requests) (2024.6.2)\n",
            "Requirement already satisfied: soupsieve>1.2 in /usr/local/lib/python3.10/dist-packages (from beautifulsoup4) (2.5)\n",
            "Requirement already satisfied: python-dateutil>=2.8.2 in /usr/local/lib/python3.10/dist-packages (from pandas) (2.8.2)\n",
            "Requirement already satisfied: pytz>=2020.1 in /usr/local/lib/python3.10/dist-packages (from pandas) (2023.4)\n",
            "Requirement already satisfied: tzdata>=2022.1 in /usr/local/lib/python3.10/dist-packages (from pandas) (2024.1)\n",
            "Requirement already satisfied: numpy>=1.21.0 in /usr/local/lib/python3.10/dist-packages (from pandas) (1.25.2)\n",
            "Requirement already satisfied: six>=1.5 in /usr/local/lib/python3.10/dist-packages (from python-dateutil>=2.8.2->pandas) (1.16.0)\n"
          ]
        }
      ],
      "source": [
        "! pip install requests beautifulsoup4 pandas"
      ]
    },
    {
      "cell_type": "markdown",
      "metadata": {
        "id": "d__J4wAjYJH1"
      },
      "source": [
        "### *NEWS*"
      ]
    },
    {
      "cell_type": "code",
      "execution_count": null,
      "metadata": {
        "colab": {
          "base_uri": "https://localhost:8080/",
          "height": 106
        },
        "id": "tTcX8NQxVLED",
        "outputId": "58d219c3-06e7-44d2-e1bc-64086b76b05e"
      },
      "outputs": [
        {
          "output_type": "stream",
          "name": "stdout",
          "text": [
            "\n",
            "DataFrame after converting dates:\n",
            "\n",
            "DataFrame after renaming 'date' to 'Date':\n"
          ]
        },
        {
          "output_type": "display_data",
          "data": {
            "text/plain": [
              "<IPython.core.display.Javascript object>"
            ],
            "application/javascript": [
              "\n",
              "    async function download(id, filename, size) {\n",
              "      if (!google.colab.kernel.accessAllowed) {\n",
              "        return;\n",
              "      }\n",
              "      const div = document.createElement('div');\n",
              "      const label = document.createElement('label');\n",
              "      label.textContent = `Downloading \"${filename}\": `;\n",
              "      div.appendChild(label);\n",
              "      const progress = document.createElement('progress');\n",
              "      progress.max = size;\n",
              "      div.appendChild(progress);\n",
              "      document.body.appendChild(div);\n",
              "\n",
              "      const buffers = [];\n",
              "      let downloaded = 0;\n",
              "\n",
              "      const channel = await google.colab.kernel.comms.open(id);\n",
              "      // Send a message to notify the kernel that we're ready.\n",
              "      channel.send({})\n",
              "\n",
              "      for await (const message of channel.messages) {\n",
              "        // Send a message to notify the kernel that we're ready.\n",
              "        channel.send({})\n",
              "        if (message.buffers) {\n",
              "          for (const buffer of message.buffers) {\n",
              "            buffers.push(buffer);\n",
              "            downloaded += buffer.byteLength;\n",
              "            progress.value = downloaded;\n",
              "          }\n",
              "        }\n",
              "      }\n",
              "      const blob = new Blob(buffers, {type: 'application/binary'});\n",
              "      const a = document.createElement('a');\n",
              "      a.href = window.URL.createObjectURL(blob);\n",
              "      a.download = filename;\n",
              "      div.appendChild(a);\n",
              "      a.click();\n",
              "      div.remove();\n",
              "    }\n",
              "  "
            ]
          },
          "metadata": {}
        },
        {
          "output_type": "display_data",
          "data": {
            "text/plain": [
              "<IPython.core.display.Javascript object>"
            ],
            "application/javascript": [
              "download(\"download_b7cb332c-81bd-4ec5-9fbc-d61d327a3349\", \"news.csv\", 807594)"
            ]
          },
          "metadata": {}
        }
      ],
      "source": [
        "import requests\n",
        "from bs4 import BeautifulSoup\n",
        "import pandas as pd\n",
        "import numpy as np\n",
        "final = pd.DataFrame()\n",
        "for j in range(1,201):\n",
        "  webpage = requests.get(f'https://markets.businessinsider.com/news/aapl-stock?p={j}&')\n",
        "  soup = BeautifulSoup(webpage.content, 'lxml')\n",
        "  company = soup.find_all('div', class_=\"latest-news__story\")\n",
        "  news = []\n",
        "  date = []\n",
        "\n",
        "  for i in company:\n",
        "    try:\n",
        "      news.append(i.find('a', class_=\"news-link\").text.strip())\n",
        "    except:\n",
        "      news.append(np.nan)\n",
        "    try:\n",
        "      date.append(i.find(class_=\"latest-news__date\").text.strip())\n",
        "    except:\n",
        "      date.append(np.nan)\n",
        "\n",
        "  df = pd.DataFrame({'news': news, 'date': date})\n",
        "  final = pd.concat([final,df], ignore_index=True)\n",
        "\n",
        "from google.colab import files\n",
        "from datetime import datetime, timedelta\n",
        "# Function to convert relative date to absolute date\n",
        "def convert_to_absolute_date(relative_date):\n",
        "  if relative_date is not None and isinstance(relative_date, str):  # Check if relative_date is not None and is a string\n",
        "    if 'd' in relative_date:\n",
        "      days_ago = int(relative_date.replace(',','').replace('d',''))  # Extract the number of days (remove 'd')\n",
        "      absolute_date = datetime.now() - timedelta(days=days_ago)  # Compute the absolute date\n",
        "      return absolute_date.strftime('%Y-%m-%d')  # Format as yyyy-mm-dd\n",
        "    elif 'h' in relative_date:\n",
        "      hours_ago = int(relative_date.replace(',','').replace('h',''))  # Extract the number of hours (remove 'h')\n",
        "      absolute_date = datetime.now() - timedelta(hours=hours_ago)  # Compute the absolute date\n",
        "      return absolute_date.strftime('%Y-%m-%d')  # Format as yyyy-mm-dd\n",
        "  return relative_date  # Return the original value if it's not a string or is None\n",
        "\n",
        "final['date'] = final['date'].apply(convert_to_absolute_date)\n",
        "print(\"\\nDataFrame after converting dates:\")\n",
        "final.rename(columns={'date': 'Date'}, inplace=True)\n",
        "print(\"\\nDataFrame after renaming 'date' to 'Date':\")\n",
        "\n",
        " # Save the DataFrame to CSV\n",
        "final.to_csv('news.csv', index=False)\n",
        "\n",
        "# Download the CSV file\n",
        "files.download('news.csv')"
      ]
    },
    {
      "cell_type": "markdown",
      "metadata": {
        "id": "LlaIuk6LYUgU"
      },
      "source": [
        "### *STOCK DATA*"
      ]
    },
    {
      "cell_type": "code",
      "execution_count": null,
      "metadata": {
        "id": "FxUhwBh-VLIw",
        "colab": {
          "base_uri": "https://localhost:8080/",
          "height": 52
        },
        "outputId": "8ef94b58-50b6-4e9f-c76e-2fb60a7bc6ed"
      },
      "outputs": [
        {
          "output_type": "stream",
          "name": "stdout",
          "text": [
            "Stock data saved to AAPL_stock_data.csv\n"
          ]
        },
        {
          "output_type": "display_data",
          "data": {
            "text/plain": [
              "<IPython.core.display.Javascript object>"
            ],
            "application/javascript": [
              "\n",
              "    async function download(id, filename, size) {\n",
              "      if (!google.colab.kernel.accessAllowed) {\n",
              "        return;\n",
              "      }\n",
              "      const div = document.createElement('div');\n",
              "      const label = document.createElement('label');\n",
              "      label.textContent = `Downloading \"${filename}\": `;\n",
              "      div.appendChild(label);\n",
              "      const progress = document.createElement('progress');\n",
              "      progress.max = size;\n",
              "      div.appendChild(progress);\n",
              "      document.body.appendChild(div);\n",
              "\n",
              "      const buffers = [];\n",
              "      let downloaded = 0;\n",
              "\n",
              "      const channel = await google.colab.kernel.comms.open(id);\n",
              "      // Send a message to notify the kernel that we're ready.\n",
              "      channel.send({})\n",
              "\n",
              "      for await (const message of channel.messages) {\n",
              "        // Send a message to notify the kernel that we're ready.\n",
              "        channel.send({})\n",
              "        if (message.buffers) {\n",
              "          for (const buffer of message.buffers) {\n",
              "            buffers.push(buffer);\n",
              "            downloaded += buffer.byteLength;\n",
              "            progress.value = downloaded;\n",
              "          }\n",
              "        }\n",
              "      }\n",
              "      const blob = new Blob(buffers, {type: 'application/binary'});\n",
              "      const a = document.createElement('a');\n",
              "      a.href = window.URL.createObjectURL(blob);\n",
              "      a.download = filename;\n",
              "      div.appendChild(a);\n",
              "      a.click();\n",
              "      div.remove();\n",
              "    }\n",
              "  "
            ]
          },
          "metadata": {}
        },
        {
          "output_type": "display_data",
          "data": {
            "text/plain": [
              "<IPython.core.display.Javascript object>"
            ],
            "application/javascript": [
              "download(\"download_177f4a48-74ce-44cb-98b1-2ec8bbb9fc18\", \"AAPL_stock_data.csv\", 257656)"
            ]
          },
          "metadata": {}
        }
      ],
      "source": [
        "import yfinance as yf\n",
        "import pandas as pd\n",
        "from google.colab import files\n",
        "\n",
        "# Function to fetch stock data\n",
        "def fetch_stock_data(ticker, period='1mo', interval='1d'):\n",
        "    \"\"\"\n",
        "    Fetch stock data for a given ticker symbol.\n",
        "\n",
        "    Parameters:\n",
        "    - ticker: String, the ticker symbol of the stock (e.g., 'AAPL' for Apple Inc.).\n",
        "    - period: String, the period to fetch data for (e.g., '1d' for 1 day, '1mo' for 1 month).\n",
        "    - interval: String, the interval between data points (e.g., '1m' for 1 minute, '1d' for 1 day).\n",
        "\n",
        "    Returns:\n",
        "    - DataFrame, containing the fetched stock data.\n",
        "    \"\"\"\n",
        "    try:\n",
        "        # Initialize Ticker object\n",
        "        stock = yf.Ticker(ticker)\n",
        "\n",
        "        # Fetch historical market data\n",
        "        data = stock.history(period=period, interval=interval)\n",
        "\n",
        "        # Reset index to bring the date column into the DataFrame\n",
        "        data.reset_index(inplace=True)\n",
        "\n",
        "        # Convert the 'Date' column to datetime without time\n",
        "        data['Date'] = pd.to_datetime(data['Date']).dt.date\n",
        "\n",
        "        return data\n",
        "    except Exception as e:\n",
        "        print(f\"An error occurred: {e}\")\n",
        "        return None\n",
        "ticker = 'AAPL'   # Ticker symbol for Apple Inc.\n",
        "period = '10y'    # Fetch data for the last 10 years\n",
        "interval = '1d'   # Daily data\n",
        "\n",
        "# Fetch stock data for Apple Inc.\n",
        "stock_data = fetch_stock_data(ticker, period=period, interval=interval)\n",
        "\n",
        "# Convert to DataFrame and save to CSV\n",
        "if stock_data is not None:\n",
        "    stock_data_df = pd.DataFrame(stock_data)\n",
        "\n",
        "    # Save DataFrame to a CSV file\n",
        "    csv_file_path = f\"{ticker}_stock_data.csv\"\n",
        "    stock_data_df.to_csv(csv_file_path, index=False)  # Save without index\n",
        "    print(f\"Stock data saved to {csv_file_path}\")\n",
        "\n",
        "    # Download the CSV file to your local machine\n",
        "    files.download(csv_file_path)\n",
        "else:\n",
        "    print(\"Failed to fetch stock data.\")"
      ]
    },
    {
      "cell_type": "markdown",
      "metadata": {
        "id": "dBeBBGSNYjzF"
      },
      "source": [
        "### *SENTIMENT ANALYSIS*"
      ]
    },
    {
      "cell_type": "code",
      "execution_count": null,
      "metadata": {
        "id": "8L4PEtJByWz2",
        "colab": {
          "base_uri": "https://localhost:8080/"
        },
        "outputId": "3085f58d-6954-48cf-cef3-e80d9875d864"
      },
      "outputs": [
        {
          "output_type": "stream",
          "name": "stdout",
          "text": [
            "Collecting vaderSentiment\n",
            "  Downloading vaderSentiment-3.3.2-py2.py3-none-any.whl (125 kB)\n",
            "\u001b[2K     \u001b[90m━━━━━━━━━━━━━━━━━━━━━━━━━━━━━━━━━━━━━━━━\u001b[0m \u001b[32m126.0/126.0 kB\u001b[0m \u001b[31m2.6 MB/s\u001b[0m eta \u001b[36m0:00:00\u001b[0m\n",
            "\u001b[?25hRequirement already satisfied: requests in /usr/local/lib/python3.10/dist-packages (from vaderSentiment) (2.31.0)\n",
            "Requirement already satisfied: charset-normalizer<4,>=2 in /usr/local/lib/python3.10/dist-packages (from requests->vaderSentiment) (3.3.2)\n",
            "Requirement already satisfied: idna<4,>=2.5 in /usr/local/lib/python3.10/dist-packages (from requests->vaderSentiment) (3.7)\n",
            "Requirement already satisfied: urllib3<3,>=1.21.1 in /usr/local/lib/python3.10/dist-packages (from requests->vaderSentiment) (2.0.7)\n",
            "Requirement already satisfied: certifi>=2017.4.17 in /usr/local/lib/python3.10/dist-packages (from requests->vaderSentiment) (2024.6.2)\n",
            "Installing collected packages: vaderSentiment\n",
            "Successfully installed vaderSentiment-3.3.2\n"
          ]
        }
      ],
      "source": [
        "! pip install vaderSentiment"
      ]
    },
    {
      "cell_type": "code",
      "execution_count": null,
      "metadata": {
        "id": "1mwNOawAyxPe"
      },
      "outputs": [],
      "source": [
        "import pandas as pd\n",
        "import numpy as np\n",
        "from textblob import TextBlob\n",
        "import re\n",
        "from vaderSentiment.vaderSentiment import SentimentIntensityAnalyzer\n",
        "from sklearn.model_selection import train_test_split\n",
        "from sklearn.metrics import accuracy_score, classification_report\n",
        "from sklearn.discriminant_analysis import LinearDiscriminantAnalysis"
      ]
    },
    {
      "cell_type": "code",
      "execution_count": null,
      "metadata": {
        "id": "Ewg5iKi5zu7S"
      },
      "outputs": [],
      "source": [
        "df1 = pd.read_csv('news.csv')\n",
        "df2 = pd.read_csv('AAPL_stock_data.csv')"
      ]
    },
    {
      "cell_type": "code",
      "execution_count": null,
      "metadata": {
        "colab": {
          "base_uri": "https://localhost:8080/",
          "height": 175
        },
        "id": "GttVa8670rZD",
        "outputId": "1a0f6748-78b0-4fc2-c12b-89b3f19e9bf1"
      },
      "outputs": [
        {
          "output_type": "execute_result",
          "data": {
            "text/plain": [
              "                                                news        Date\n",
              "0  Rag to Riches: 3 AR Stocks That Could Make Ear...  2024-06-19\n",
              "1           3 Metaverse Stocks to Buy Now: June 2024  2024-06-19\n",
              "2  3 Tech Stocks the Market Mispriced (And How Yo...  2024-06-19\n",
              "3   3 EV Stocks to Buy Now for the Rivian Resurgence  2024-06-19"
            ],
            "text/html": [
              "\n",
              "  <div id=\"df-2446a851-49fc-4264-8923-fd38a85d9474\" class=\"colab-df-container\">\n",
              "    <div>\n",
              "<style scoped>\n",
              "    .dataframe tbody tr th:only-of-type {\n",
              "        vertical-align: middle;\n",
              "    }\n",
              "\n",
              "    .dataframe tbody tr th {\n",
              "        vertical-align: top;\n",
              "    }\n",
              "\n",
              "    .dataframe thead th {\n",
              "        text-align: right;\n",
              "    }\n",
              "</style>\n",
              "<table border=\"1\" class=\"dataframe\">\n",
              "  <thead>\n",
              "    <tr style=\"text-align: right;\">\n",
              "      <th></th>\n",
              "      <th>news</th>\n",
              "      <th>Date</th>\n",
              "    </tr>\n",
              "  </thead>\n",
              "  <tbody>\n",
              "    <tr>\n",
              "      <th>0</th>\n",
              "      <td>Rag to Riches: 3 AR Stocks That Could Make Ear...</td>\n",
              "      <td>2024-06-19</td>\n",
              "    </tr>\n",
              "    <tr>\n",
              "      <th>1</th>\n",
              "      <td>3 Metaverse Stocks to Buy Now: June 2024</td>\n",
              "      <td>2024-06-19</td>\n",
              "    </tr>\n",
              "    <tr>\n",
              "      <th>2</th>\n",
              "      <td>3 Tech Stocks the Market Mispriced (And How Yo...</td>\n",
              "      <td>2024-06-19</td>\n",
              "    </tr>\n",
              "    <tr>\n",
              "      <th>3</th>\n",
              "      <td>3 EV Stocks to Buy Now for the Rivian Resurgence</td>\n",
              "      <td>2024-06-19</td>\n",
              "    </tr>\n",
              "  </tbody>\n",
              "</table>\n",
              "</div>\n",
              "    <div class=\"colab-df-buttons\">\n",
              "\n",
              "  <div class=\"colab-df-container\">\n",
              "    <button class=\"colab-df-convert\" onclick=\"convertToInteractive('df-2446a851-49fc-4264-8923-fd38a85d9474')\"\n",
              "            title=\"Convert this dataframe to an interactive table.\"\n",
              "            style=\"display:none;\">\n",
              "\n",
              "  <svg xmlns=\"http://www.w3.org/2000/svg\" height=\"24px\" viewBox=\"0 -960 960 960\">\n",
              "    <path d=\"M120-120v-720h720v720H120Zm60-500h600v-160H180v160Zm220 220h160v-160H400v160Zm0 220h160v-160H400v160ZM180-400h160v-160H180v160Zm440 0h160v-160H620v160ZM180-180h160v-160H180v160Zm440 0h160v-160H620v160Z\"/>\n",
              "  </svg>\n",
              "    </button>\n",
              "\n",
              "  <style>\n",
              "    .colab-df-container {\n",
              "      display:flex;\n",
              "      gap: 12px;\n",
              "    }\n",
              "\n",
              "    .colab-df-convert {\n",
              "      background-color: #E8F0FE;\n",
              "      border: none;\n",
              "      border-radius: 50%;\n",
              "      cursor: pointer;\n",
              "      display: none;\n",
              "      fill: #1967D2;\n",
              "      height: 32px;\n",
              "      padding: 0 0 0 0;\n",
              "      width: 32px;\n",
              "    }\n",
              "\n",
              "    .colab-df-convert:hover {\n",
              "      background-color: #E2EBFA;\n",
              "      box-shadow: 0px 1px 2px rgba(60, 64, 67, 0.3), 0px 1px 3px 1px rgba(60, 64, 67, 0.15);\n",
              "      fill: #174EA6;\n",
              "    }\n",
              "\n",
              "    .colab-df-buttons div {\n",
              "      margin-bottom: 4px;\n",
              "    }\n",
              "\n",
              "    [theme=dark] .colab-df-convert {\n",
              "      background-color: #3B4455;\n",
              "      fill: #D2E3FC;\n",
              "    }\n",
              "\n",
              "    [theme=dark] .colab-df-convert:hover {\n",
              "      background-color: #434B5C;\n",
              "      box-shadow: 0px 1px 3px 1px rgba(0, 0, 0, 0.15);\n",
              "      filter: drop-shadow(0px 1px 2px rgba(0, 0, 0, 0.3));\n",
              "      fill: #FFFFFF;\n",
              "    }\n",
              "  </style>\n",
              "\n",
              "    <script>\n",
              "      const buttonEl =\n",
              "        document.querySelector('#df-2446a851-49fc-4264-8923-fd38a85d9474 button.colab-df-convert');\n",
              "      buttonEl.style.display =\n",
              "        google.colab.kernel.accessAllowed ? 'block' : 'none';\n",
              "\n",
              "      async function convertToInteractive(key) {\n",
              "        const element = document.querySelector('#df-2446a851-49fc-4264-8923-fd38a85d9474');\n",
              "        const dataTable =\n",
              "          await google.colab.kernel.invokeFunction('convertToInteractive',\n",
              "                                                    [key], {});\n",
              "        if (!dataTable) return;\n",
              "\n",
              "        const docLinkHtml = 'Like what you see? Visit the ' +\n",
              "          '<a target=\"_blank\" href=https://colab.research.google.com/notebooks/data_table.ipynb>data table notebook</a>'\n",
              "          + ' to learn more about interactive tables.';\n",
              "        element.innerHTML = '';\n",
              "        dataTable['output_type'] = 'display_data';\n",
              "        await google.colab.output.renderOutput(dataTable, element);\n",
              "        const docLink = document.createElement('div');\n",
              "        docLink.innerHTML = docLinkHtml;\n",
              "        element.appendChild(docLink);\n",
              "      }\n",
              "    </script>\n",
              "  </div>\n",
              "\n",
              "\n",
              "<div id=\"df-3b501362-8194-46a7-8446-5fd94c63e9cb\">\n",
              "  <button class=\"colab-df-quickchart\" onclick=\"quickchart('df-3b501362-8194-46a7-8446-5fd94c63e9cb')\"\n",
              "            title=\"Suggest charts\"\n",
              "            style=\"display:none;\">\n",
              "\n",
              "<svg xmlns=\"http://www.w3.org/2000/svg\" height=\"24px\"viewBox=\"0 0 24 24\"\n",
              "     width=\"24px\">\n",
              "    <g>\n",
              "        <path d=\"M19 3H5c-1.1 0-2 .9-2 2v14c0 1.1.9 2 2 2h14c1.1 0 2-.9 2-2V5c0-1.1-.9-2-2-2zM9 17H7v-7h2v7zm4 0h-2V7h2v10zm4 0h-2v-4h2v4z\"/>\n",
              "    </g>\n",
              "</svg>\n",
              "  </button>\n",
              "\n",
              "<style>\n",
              "  .colab-df-quickchart {\n",
              "      --bg-color: #E8F0FE;\n",
              "      --fill-color: #1967D2;\n",
              "      --hover-bg-color: #E2EBFA;\n",
              "      --hover-fill-color: #174EA6;\n",
              "      --disabled-fill-color: #AAA;\n",
              "      --disabled-bg-color: #DDD;\n",
              "  }\n",
              "\n",
              "  [theme=dark] .colab-df-quickchart {\n",
              "      --bg-color: #3B4455;\n",
              "      --fill-color: #D2E3FC;\n",
              "      --hover-bg-color: #434B5C;\n",
              "      --hover-fill-color: #FFFFFF;\n",
              "      --disabled-bg-color: #3B4455;\n",
              "      --disabled-fill-color: #666;\n",
              "  }\n",
              "\n",
              "  .colab-df-quickchart {\n",
              "    background-color: var(--bg-color);\n",
              "    border: none;\n",
              "    border-radius: 50%;\n",
              "    cursor: pointer;\n",
              "    display: none;\n",
              "    fill: var(--fill-color);\n",
              "    height: 32px;\n",
              "    padding: 0;\n",
              "    width: 32px;\n",
              "  }\n",
              "\n",
              "  .colab-df-quickchart:hover {\n",
              "    background-color: var(--hover-bg-color);\n",
              "    box-shadow: 0 1px 2px rgba(60, 64, 67, 0.3), 0 1px 3px 1px rgba(60, 64, 67, 0.15);\n",
              "    fill: var(--button-hover-fill-color);\n",
              "  }\n",
              "\n",
              "  .colab-df-quickchart-complete:disabled,\n",
              "  .colab-df-quickchart-complete:disabled:hover {\n",
              "    background-color: var(--disabled-bg-color);\n",
              "    fill: var(--disabled-fill-color);\n",
              "    box-shadow: none;\n",
              "  }\n",
              "\n",
              "  .colab-df-spinner {\n",
              "    border: 2px solid var(--fill-color);\n",
              "    border-color: transparent;\n",
              "    border-bottom-color: var(--fill-color);\n",
              "    animation:\n",
              "      spin 1s steps(1) infinite;\n",
              "  }\n",
              "\n",
              "  @keyframes spin {\n",
              "    0% {\n",
              "      border-color: transparent;\n",
              "      border-bottom-color: var(--fill-color);\n",
              "      border-left-color: var(--fill-color);\n",
              "    }\n",
              "    20% {\n",
              "      border-color: transparent;\n",
              "      border-left-color: var(--fill-color);\n",
              "      border-top-color: var(--fill-color);\n",
              "    }\n",
              "    30% {\n",
              "      border-color: transparent;\n",
              "      border-left-color: var(--fill-color);\n",
              "      border-top-color: var(--fill-color);\n",
              "      border-right-color: var(--fill-color);\n",
              "    }\n",
              "    40% {\n",
              "      border-color: transparent;\n",
              "      border-right-color: var(--fill-color);\n",
              "      border-top-color: var(--fill-color);\n",
              "    }\n",
              "    60% {\n",
              "      border-color: transparent;\n",
              "      border-right-color: var(--fill-color);\n",
              "    }\n",
              "    80% {\n",
              "      border-color: transparent;\n",
              "      border-right-color: var(--fill-color);\n",
              "      border-bottom-color: var(--fill-color);\n",
              "    }\n",
              "    90% {\n",
              "      border-color: transparent;\n",
              "      border-bottom-color: var(--fill-color);\n",
              "    }\n",
              "  }\n",
              "</style>\n",
              "\n",
              "  <script>\n",
              "    async function quickchart(key) {\n",
              "      const quickchartButtonEl =\n",
              "        document.querySelector('#' + key + ' button');\n",
              "      quickchartButtonEl.disabled = true;  // To prevent multiple clicks.\n",
              "      quickchartButtonEl.classList.add('colab-df-spinner');\n",
              "      try {\n",
              "        const charts = await google.colab.kernel.invokeFunction(\n",
              "            'suggestCharts', [key], {});\n",
              "      } catch (error) {\n",
              "        console.error('Error during call to suggestCharts:', error);\n",
              "      }\n",
              "      quickchartButtonEl.classList.remove('colab-df-spinner');\n",
              "      quickchartButtonEl.classList.add('colab-df-quickchart-complete');\n",
              "    }\n",
              "    (() => {\n",
              "      let quickchartButtonEl =\n",
              "        document.querySelector('#df-3b501362-8194-46a7-8446-5fd94c63e9cb button');\n",
              "      quickchartButtonEl.style.display =\n",
              "        google.colab.kernel.accessAllowed ? 'block' : 'none';\n",
              "    })();\n",
              "  </script>\n",
              "</div>\n",
              "\n",
              "    </div>\n",
              "  </div>\n"
            ],
            "application/vnd.google.colaboratory.intrinsic+json": {
              "type": "dataframe",
              "variable_name": "df1",
              "summary": "{\n  \"name\": \"df1\",\n  \"rows\": 10000,\n  \"fields\": [\n    {\n      \"column\": \"news\",\n      \"properties\": {\n        \"dtype\": \"string\",\n        \"num_unique_values\": 9653,\n        \"samples\": [\n          \"7 of the Best Index Funds to Buy on the Market Today\",\n          \"Apple Supplier Foxconn's Chennai Plant To Reopen\",\n          \"An Non-AI Stock Reddit Shows Expanding AI Exuberance, Important Treasury Auction Ahead, Fed MIA\"\n        ],\n        \"semantic_type\": \"\",\n        \"description\": \"\"\n      }\n    },\n    {\n      \"column\": \"Date\",\n      \"properties\": {\n        \"dtype\": \"object\",\n        \"num_unique_values\": 1505,\n        \"samples\": [\n          \"2024-04-28\",\n          \"2021-08-30\",\n          \"2023-12-11\"\n        ],\n        \"semantic_type\": \"\",\n        \"description\": \"\"\n      }\n    }\n  ]\n}"
            }
          },
          "metadata": {},
          "execution_count": 7
        }
      ],
      "source": [
        "# first 4 rows of data for df1\n",
        "df1.head(4)"
      ]
    },
    {
      "cell_type": "code",
      "execution_count": null,
      "metadata": {
        "colab": {
          "base_uri": "https://localhost:8080/"
        },
        "id": "UdauTCQJ04bJ",
        "outputId": "085ba13d-31b7-4d14-f038-569139365bda"
      },
      "outputs": [
        {
          "output_type": "execute_result",
          "data": {
            "text/plain": [
              "(10000, 2)"
            ]
          },
          "metadata": {},
          "execution_count": 8
        }
      ],
      "source": [
        "# no. of rows and columns\n",
        "df1.shape"
      ]
    },
    {
      "cell_type": "code",
      "execution_count": null,
      "metadata": {
        "colab": {
          "base_uri": "https://localhost:8080/",
          "height": 175
        },
        "id": "fVnB2z_61T-Q",
        "outputId": "8dbe2b55-61c1-4c32-85c9-479154161b76"
      },
      "outputs": [
        {
          "output_type": "execute_result",
          "data": {
            "text/plain": [
              "         Date       Open       High        Low      Close     Volume  \\\n",
              "0  2014-06-19  20.436121  20.438336  20.225758  20.340904  142112000   \n",
              "1  2014-06-20  20.338684  20.493688  20.128322  20.130537  403592000   \n",
              "2  2014-06-23  20.221331  20.287762  20.061899  20.112829  174776000   \n",
              "3  2014-06-24  20.095106  20.314325  19.971103  19.991032  156144000   \n",
              "\n",
              "   Dividends  Stock Splits  \n",
              "0        0.0           0.0  \n",
              "1        0.0           0.0  \n",
              "2        0.0           0.0  \n",
              "3        0.0           0.0  "
            ],
            "text/html": [
              "\n",
              "  <div id=\"df-658ab471-ad4d-4d27-b958-6baedf3d7ac1\" class=\"colab-df-container\">\n",
              "    <div>\n",
              "<style scoped>\n",
              "    .dataframe tbody tr th:only-of-type {\n",
              "        vertical-align: middle;\n",
              "    }\n",
              "\n",
              "    .dataframe tbody tr th {\n",
              "        vertical-align: top;\n",
              "    }\n",
              "\n",
              "    .dataframe thead th {\n",
              "        text-align: right;\n",
              "    }\n",
              "</style>\n",
              "<table border=\"1\" class=\"dataframe\">\n",
              "  <thead>\n",
              "    <tr style=\"text-align: right;\">\n",
              "      <th></th>\n",
              "      <th>Date</th>\n",
              "      <th>Open</th>\n",
              "      <th>High</th>\n",
              "      <th>Low</th>\n",
              "      <th>Close</th>\n",
              "      <th>Volume</th>\n",
              "      <th>Dividends</th>\n",
              "      <th>Stock Splits</th>\n",
              "    </tr>\n",
              "  </thead>\n",
              "  <tbody>\n",
              "    <tr>\n",
              "      <th>0</th>\n",
              "      <td>2014-06-19</td>\n",
              "      <td>20.436121</td>\n",
              "      <td>20.438336</td>\n",
              "      <td>20.225758</td>\n",
              "      <td>20.340904</td>\n",
              "      <td>142112000</td>\n",
              "      <td>0.0</td>\n",
              "      <td>0.0</td>\n",
              "    </tr>\n",
              "    <tr>\n",
              "      <th>1</th>\n",
              "      <td>2014-06-20</td>\n",
              "      <td>20.338684</td>\n",
              "      <td>20.493688</td>\n",
              "      <td>20.128322</td>\n",
              "      <td>20.130537</td>\n",
              "      <td>403592000</td>\n",
              "      <td>0.0</td>\n",
              "      <td>0.0</td>\n",
              "    </tr>\n",
              "    <tr>\n",
              "      <th>2</th>\n",
              "      <td>2014-06-23</td>\n",
              "      <td>20.221331</td>\n",
              "      <td>20.287762</td>\n",
              "      <td>20.061899</td>\n",
              "      <td>20.112829</td>\n",
              "      <td>174776000</td>\n",
              "      <td>0.0</td>\n",
              "      <td>0.0</td>\n",
              "    </tr>\n",
              "    <tr>\n",
              "      <th>3</th>\n",
              "      <td>2014-06-24</td>\n",
              "      <td>20.095106</td>\n",
              "      <td>20.314325</td>\n",
              "      <td>19.971103</td>\n",
              "      <td>19.991032</td>\n",
              "      <td>156144000</td>\n",
              "      <td>0.0</td>\n",
              "      <td>0.0</td>\n",
              "    </tr>\n",
              "  </tbody>\n",
              "</table>\n",
              "</div>\n",
              "    <div class=\"colab-df-buttons\">\n",
              "\n",
              "  <div class=\"colab-df-container\">\n",
              "    <button class=\"colab-df-convert\" onclick=\"convertToInteractive('df-658ab471-ad4d-4d27-b958-6baedf3d7ac1')\"\n",
              "            title=\"Convert this dataframe to an interactive table.\"\n",
              "            style=\"display:none;\">\n",
              "\n",
              "  <svg xmlns=\"http://www.w3.org/2000/svg\" height=\"24px\" viewBox=\"0 -960 960 960\">\n",
              "    <path d=\"M120-120v-720h720v720H120Zm60-500h600v-160H180v160Zm220 220h160v-160H400v160Zm0 220h160v-160H400v160ZM180-400h160v-160H180v160Zm440 0h160v-160H620v160ZM180-180h160v-160H180v160Zm440 0h160v-160H620v160Z\"/>\n",
              "  </svg>\n",
              "    </button>\n",
              "\n",
              "  <style>\n",
              "    .colab-df-container {\n",
              "      display:flex;\n",
              "      gap: 12px;\n",
              "    }\n",
              "\n",
              "    .colab-df-convert {\n",
              "      background-color: #E8F0FE;\n",
              "      border: none;\n",
              "      border-radius: 50%;\n",
              "      cursor: pointer;\n",
              "      display: none;\n",
              "      fill: #1967D2;\n",
              "      height: 32px;\n",
              "      padding: 0 0 0 0;\n",
              "      width: 32px;\n",
              "    }\n",
              "\n",
              "    .colab-df-convert:hover {\n",
              "      background-color: #E2EBFA;\n",
              "      box-shadow: 0px 1px 2px rgba(60, 64, 67, 0.3), 0px 1px 3px 1px rgba(60, 64, 67, 0.15);\n",
              "      fill: #174EA6;\n",
              "    }\n",
              "\n",
              "    .colab-df-buttons div {\n",
              "      margin-bottom: 4px;\n",
              "    }\n",
              "\n",
              "    [theme=dark] .colab-df-convert {\n",
              "      background-color: #3B4455;\n",
              "      fill: #D2E3FC;\n",
              "    }\n",
              "\n",
              "    [theme=dark] .colab-df-convert:hover {\n",
              "      background-color: #434B5C;\n",
              "      box-shadow: 0px 1px 3px 1px rgba(0, 0, 0, 0.15);\n",
              "      filter: drop-shadow(0px 1px 2px rgba(0, 0, 0, 0.3));\n",
              "      fill: #FFFFFF;\n",
              "    }\n",
              "  </style>\n",
              "\n",
              "    <script>\n",
              "      const buttonEl =\n",
              "        document.querySelector('#df-658ab471-ad4d-4d27-b958-6baedf3d7ac1 button.colab-df-convert');\n",
              "      buttonEl.style.display =\n",
              "        google.colab.kernel.accessAllowed ? 'block' : 'none';\n",
              "\n",
              "      async function convertToInteractive(key) {\n",
              "        const element = document.querySelector('#df-658ab471-ad4d-4d27-b958-6baedf3d7ac1');\n",
              "        const dataTable =\n",
              "          await google.colab.kernel.invokeFunction('convertToInteractive',\n",
              "                                                    [key], {});\n",
              "        if (!dataTable) return;\n",
              "\n",
              "        const docLinkHtml = 'Like what you see? Visit the ' +\n",
              "          '<a target=\"_blank\" href=https://colab.research.google.com/notebooks/data_table.ipynb>data table notebook</a>'\n",
              "          + ' to learn more about interactive tables.';\n",
              "        element.innerHTML = '';\n",
              "        dataTable['output_type'] = 'display_data';\n",
              "        await google.colab.output.renderOutput(dataTable, element);\n",
              "        const docLink = document.createElement('div');\n",
              "        docLink.innerHTML = docLinkHtml;\n",
              "        element.appendChild(docLink);\n",
              "      }\n",
              "    </script>\n",
              "  </div>\n",
              "\n",
              "\n",
              "<div id=\"df-4826544b-5027-4bec-b4fd-acae309bc635\">\n",
              "  <button class=\"colab-df-quickchart\" onclick=\"quickchart('df-4826544b-5027-4bec-b4fd-acae309bc635')\"\n",
              "            title=\"Suggest charts\"\n",
              "            style=\"display:none;\">\n",
              "\n",
              "<svg xmlns=\"http://www.w3.org/2000/svg\" height=\"24px\"viewBox=\"0 0 24 24\"\n",
              "     width=\"24px\">\n",
              "    <g>\n",
              "        <path d=\"M19 3H5c-1.1 0-2 .9-2 2v14c0 1.1.9 2 2 2h14c1.1 0 2-.9 2-2V5c0-1.1-.9-2-2-2zM9 17H7v-7h2v7zm4 0h-2V7h2v10zm4 0h-2v-4h2v4z\"/>\n",
              "    </g>\n",
              "</svg>\n",
              "  </button>\n",
              "\n",
              "<style>\n",
              "  .colab-df-quickchart {\n",
              "      --bg-color: #E8F0FE;\n",
              "      --fill-color: #1967D2;\n",
              "      --hover-bg-color: #E2EBFA;\n",
              "      --hover-fill-color: #174EA6;\n",
              "      --disabled-fill-color: #AAA;\n",
              "      --disabled-bg-color: #DDD;\n",
              "  }\n",
              "\n",
              "  [theme=dark] .colab-df-quickchart {\n",
              "      --bg-color: #3B4455;\n",
              "      --fill-color: #D2E3FC;\n",
              "      --hover-bg-color: #434B5C;\n",
              "      --hover-fill-color: #FFFFFF;\n",
              "      --disabled-bg-color: #3B4455;\n",
              "      --disabled-fill-color: #666;\n",
              "  }\n",
              "\n",
              "  .colab-df-quickchart {\n",
              "    background-color: var(--bg-color);\n",
              "    border: none;\n",
              "    border-radius: 50%;\n",
              "    cursor: pointer;\n",
              "    display: none;\n",
              "    fill: var(--fill-color);\n",
              "    height: 32px;\n",
              "    padding: 0;\n",
              "    width: 32px;\n",
              "  }\n",
              "\n",
              "  .colab-df-quickchart:hover {\n",
              "    background-color: var(--hover-bg-color);\n",
              "    box-shadow: 0 1px 2px rgba(60, 64, 67, 0.3), 0 1px 3px 1px rgba(60, 64, 67, 0.15);\n",
              "    fill: var(--button-hover-fill-color);\n",
              "  }\n",
              "\n",
              "  .colab-df-quickchart-complete:disabled,\n",
              "  .colab-df-quickchart-complete:disabled:hover {\n",
              "    background-color: var(--disabled-bg-color);\n",
              "    fill: var(--disabled-fill-color);\n",
              "    box-shadow: none;\n",
              "  }\n",
              "\n",
              "  .colab-df-spinner {\n",
              "    border: 2px solid var(--fill-color);\n",
              "    border-color: transparent;\n",
              "    border-bottom-color: var(--fill-color);\n",
              "    animation:\n",
              "      spin 1s steps(1) infinite;\n",
              "  }\n",
              "\n",
              "  @keyframes spin {\n",
              "    0% {\n",
              "      border-color: transparent;\n",
              "      border-bottom-color: var(--fill-color);\n",
              "      border-left-color: var(--fill-color);\n",
              "    }\n",
              "    20% {\n",
              "      border-color: transparent;\n",
              "      border-left-color: var(--fill-color);\n",
              "      border-top-color: var(--fill-color);\n",
              "    }\n",
              "    30% {\n",
              "      border-color: transparent;\n",
              "      border-left-color: var(--fill-color);\n",
              "      border-top-color: var(--fill-color);\n",
              "      border-right-color: var(--fill-color);\n",
              "    }\n",
              "    40% {\n",
              "      border-color: transparent;\n",
              "      border-right-color: var(--fill-color);\n",
              "      border-top-color: var(--fill-color);\n",
              "    }\n",
              "    60% {\n",
              "      border-color: transparent;\n",
              "      border-right-color: var(--fill-color);\n",
              "    }\n",
              "    80% {\n",
              "      border-color: transparent;\n",
              "      border-right-color: var(--fill-color);\n",
              "      border-bottom-color: var(--fill-color);\n",
              "    }\n",
              "    90% {\n",
              "      border-color: transparent;\n",
              "      border-bottom-color: var(--fill-color);\n",
              "    }\n",
              "  }\n",
              "</style>\n",
              "\n",
              "  <script>\n",
              "    async function quickchart(key) {\n",
              "      const quickchartButtonEl =\n",
              "        document.querySelector('#' + key + ' button');\n",
              "      quickchartButtonEl.disabled = true;  // To prevent multiple clicks.\n",
              "      quickchartButtonEl.classList.add('colab-df-spinner');\n",
              "      try {\n",
              "        const charts = await google.colab.kernel.invokeFunction(\n",
              "            'suggestCharts', [key], {});\n",
              "      } catch (error) {\n",
              "        console.error('Error during call to suggestCharts:', error);\n",
              "      }\n",
              "      quickchartButtonEl.classList.remove('colab-df-spinner');\n",
              "      quickchartButtonEl.classList.add('colab-df-quickchart-complete');\n",
              "    }\n",
              "    (() => {\n",
              "      let quickchartButtonEl =\n",
              "        document.querySelector('#df-4826544b-5027-4bec-b4fd-acae309bc635 button');\n",
              "      quickchartButtonEl.style.display =\n",
              "        google.colab.kernel.accessAllowed ? 'block' : 'none';\n",
              "    })();\n",
              "  </script>\n",
              "</div>\n",
              "\n",
              "    </div>\n",
              "  </div>\n"
            ],
            "application/vnd.google.colaboratory.intrinsic+json": {
              "type": "dataframe",
              "variable_name": "df2",
              "summary": "{\n  \"name\": \"df2\",\n  \"rows\": 2517,\n  \"fields\": [\n    {\n      \"column\": \"Date\",\n      \"properties\": {\n        \"dtype\": \"object\",\n        \"num_unique_values\": 2517,\n        \"samples\": [\n          \"2023-03-09\",\n          \"2016-02-04\",\n          \"2019-12-24\"\n        ],\n        \"semantic_type\": \"\",\n        \"description\": \"\"\n      }\n    },\n    {\n      \"column\": \"Open\",\n      \"properties\": {\n        \"dtype\": \"number\",\n        \"std\": 59.34801657974949,\n        \"min\": 19.97553742409231,\n        \"max\": 217.58999633789065,\n        \"num_unique_values\": 2516,\n        \"samples\": [\n          25.74146828069161,\n          41.17104840095843,\n          42.35163416287696\n        ],\n        \"semantic_type\": \"\",\n        \"description\": \"\"\n      }\n    },\n    {\n      \"column\": \"High\",\n      \"properties\": {\n        \"dtype\": \"number\",\n        \"std\": 59.992562199440734,\n        \"min\": 20.08403948334062,\n        \"max\": 220.1999969482422,\n        \"num_unique_values\": 2517,\n        \"samples\": [\n          153.71949147084382,\n          22.243957896443938,\n          69.29882239401604\n        ],\n        \"semantic_type\": \"\",\n        \"description\": \"\"\n      }\n    },\n    {\n      \"column\": \"Low\",\n      \"properties\": {\n        \"dtype\": \"number\",\n        \"std\": 58.76198867665146,\n        \"min\": 19.85153507066567,\n        \"max\": 213.0,\n        \"num_unique_values\": 2516,\n        \"samples\": [\n          25.576488870024846,\n          41.14022881565835,\n          42.10745765585583\n        ],\n        \"semantic_type\": \"\",\n        \"description\": \"\"\n      }\n    },\n    {\n      \"column\": \"Close\",\n      \"properties\": {\n        \"dtype\": \"number\",\n        \"std\": 59.40492466495684,\n        \"min\": 19.99103164672852,\n        \"max\": 216.6699981689453,\n        \"num_unique_values\": 2478,\n        \"samples\": [\n          140.24620056152344,\n          28.313644409179688,\n          152.04110717773438\n        ],\n        \"semantic_type\": \"\",\n        \"description\": \"\"\n      }\n    },\n    {\n      \"column\": \"Volume\",\n      \"properties\": {\n        \"dtype\": \"number\",\n        \"std\": 72016695,\n        \"min\": 24048300,\n        \"max\": 759385200,\n        \"num_unique_values\": 2510,\n        \"samples\": [\n          73274800,\n          53631300,\n          49709300\n        ],\n        \"semantic_type\": \"\",\n        \"description\": \"\"\n      }\n    },\n    {\n      \"column\": \"Dividends\",\n      \"properties\": {\n        \"dtype\": \"number\",\n        \"std\": 0.023200700832679277,\n        \"min\": 0.0,\n        \"max\": 0.24,\n        \"num_unique_values\": 11,\n        \"samples\": [\n          0.1825,\n          0.0,\n          0.23\n        ],\n        \"semantic_type\": \"\",\n        \"description\": \"\"\n      }\n    },\n    {\n      \"column\": \"Stock Splits\",\n      \"properties\": {\n        \"dtype\": \"number\",\n        \"std\": 0.07972937938568729,\n        \"min\": 0.0,\n        \"max\": 4.0,\n        \"num_unique_values\": 2,\n        \"samples\": [\n          4.0,\n          0.0\n        ],\n        \"semantic_type\": \"\",\n        \"description\": \"\"\n      }\n    }\n  ]\n}"
            }
          },
          "metadata": {},
          "execution_count": 9
        }
      ],
      "source": [
        "# first 4 rows of df2\n",
        "df2.head(4)"
      ]
    },
    {
      "cell_type": "code",
      "execution_count": null,
      "metadata": {
        "colab": {
          "base_uri": "https://localhost:8080/"
        },
        "id": "Pr2OpQTu1ail",
        "outputId": "171ef824-ef4c-4c8c-8fa9-5eb1bb7fcee7"
      },
      "outputs": [
        {
          "data": {
            "text/plain": [
              "(2517, 8)"
            ]
          },
          "execution_count": 10,
          "metadata": {},
          "output_type": "execute_result"
        }
      ],
      "source": [
        "# no. of rows and columns\n",
        "df2.shape"
      ]
    },
    {
      "cell_type": "code",
      "execution_count": null,
      "metadata": {
        "id": "_MDx1XAn1k4Y"
      },
      "outputs": [],
      "source": [
        "# merging data sets\n",
        "merge = df1.merge(df2, how='inner', on='Date')"
      ]
    },
    {
      "cell_type": "code",
      "execution_count": null,
      "metadata": {
        "colab": {
          "base_uri": "https://localhost:8080/",
          "height": 424
        },
        "id": "9IurxnXm14Zd",
        "outputId": "1088bf2b-2b1a-449d-fe3b-9fc2aa2e0291"
      },
      "outputs": [
        {
          "output_type": "execute_result",
          "data": {
            "text/plain": [
              "                                                   news        Date  \\\n",
              "0     Apple suspends work on high-end Vision headset...  2024-06-18   \n",
              "1     Bubble Trouble: 3 Stocks Ready to Burst Under ...  2024-06-18   \n",
              "2     Apple Stops Pay Later Scheme; Unveils Installm...  2024-06-18   \n",
              "3          3 Magnificent 7 Stocks to Buy Now: June 2024  2024-06-18   \n",
              "4     Forget Nvidia: Why Apple’s AI Bombshell Could ...  2024-06-18   \n",
              "...                                                 ...         ...   \n",
              "8764  Christmas Left Too Many Toys Behind in Target’...  2020-01-17   \n",
              "8765  'No way' Apple breaking encryption for FBI wou...  2020-01-17   \n",
              "8766           7 5G Stocks to Connect Your Portfolio To  2020-01-17   \n",
              "8767                  Apple Stock Is Getting Too Pricey  2020-01-17   \n",
              "8768  After Apple’s 2019 Run, I Am Going to Take Som...  2020-01-17   \n",
              "\n",
              "            Open        High         Low       Close     Volume  Dividends  \\\n",
              "0     217.589996  218.630005  213.000000  214.289993   79943300        0.0   \n",
              "1     217.589996  218.630005  213.000000  214.289993   79943300        0.0   \n",
              "2     217.589996  218.630005  213.000000  214.289993   79943300        0.0   \n",
              "3     217.589996  218.630005  213.000000  214.289993   79943300        0.0   \n",
              "4     217.589996  218.630005  213.000000  214.289993   79943300        0.0   \n",
              "...          ...         ...         ...         ...        ...        ...   \n",
              "8764   76.931910   77.532731   76.622988   77.530304  137816400        0.0   \n",
              "8765   76.931910   77.532731   76.622988   77.530304  137816400        0.0   \n",
              "8766   76.931910   77.532731   76.622988   77.530304  137816400        0.0   \n",
              "8767   76.931910   77.532731   76.622988   77.530304  137816400        0.0   \n",
              "8768   76.931910   77.532731   76.622988   77.530304  137816400        0.0   \n",
              "\n",
              "      Stock Splits  \n",
              "0              0.0  \n",
              "1              0.0  \n",
              "2              0.0  \n",
              "3              0.0  \n",
              "4              0.0  \n",
              "...            ...  \n",
              "8764           0.0  \n",
              "8765           0.0  \n",
              "8766           0.0  \n",
              "8767           0.0  \n",
              "8768           0.0  \n",
              "\n",
              "[8769 rows x 9 columns]"
            ],
            "text/html": [
              "\n",
              "  <div id=\"df-a68d5f44-3a6b-4460-a260-5255e3d56a08\" class=\"colab-df-container\">\n",
              "    <div>\n",
              "<style scoped>\n",
              "    .dataframe tbody tr th:only-of-type {\n",
              "        vertical-align: middle;\n",
              "    }\n",
              "\n",
              "    .dataframe tbody tr th {\n",
              "        vertical-align: top;\n",
              "    }\n",
              "\n",
              "    .dataframe thead th {\n",
              "        text-align: right;\n",
              "    }\n",
              "</style>\n",
              "<table border=\"1\" class=\"dataframe\">\n",
              "  <thead>\n",
              "    <tr style=\"text-align: right;\">\n",
              "      <th></th>\n",
              "      <th>news</th>\n",
              "      <th>Date</th>\n",
              "      <th>Open</th>\n",
              "      <th>High</th>\n",
              "      <th>Low</th>\n",
              "      <th>Close</th>\n",
              "      <th>Volume</th>\n",
              "      <th>Dividends</th>\n",
              "      <th>Stock Splits</th>\n",
              "    </tr>\n",
              "  </thead>\n",
              "  <tbody>\n",
              "    <tr>\n",
              "      <th>0</th>\n",
              "      <td>Apple suspends work on high-end Vision headset...</td>\n",
              "      <td>2024-06-18</td>\n",
              "      <td>217.589996</td>\n",
              "      <td>218.630005</td>\n",
              "      <td>213.000000</td>\n",
              "      <td>214.289993</td>\n",
              "      <td>79943300</td>\n",
              "      <td>0.0</td>\n",
              "      <td>0.0</td>\n",
              "    </tr>\n",
              "    <tr>\n",
              "      <th>1</th>\n",
              "      <td>Bubble Trouble: 3 Stocks Ready to Burst Under ...</td>\n",
              "      <td>2024-06-18</td>\n",
              "      <td>217.589996</td>\n",
              "      <td>218.630005</td>\n",
              "      <td>213.000000</td>\n",
              "      <td>214.289993</td>\n",
              "      <td>79943300</td>\n",
              "      <td>0.0</td>\n",
              "      <td>0.0</td>\n",
              "    </tr>\n",
              "    <tr>\n",
              "      <th>2</th>\n",
              "      <td>Apple Stops Pay Later Scheme; Unveils Installm...</td>\n",
              "      <td>2024-06-18</td>\n",
              "      <td>217.589996</td>\n",
              "      <td>218.630005</td>\n",
              "      <td>213.000000</td>\n",
              "      <td>214.289993</td>\n",
              "      <td>79943300</td>\n",
              "      <td>0.0</td>\n",
              "      <td>0.0</td>\n",
              "    </tr>\n",
              "    <tr>\n",
              "      <th>3</th>\n",
              "      <td>3 Magnificent 7 Stocks to Buy Now: June 2024</td>\n",
              "      <td>2024-06-18</td>\n",
              "      <td>217.589996</td>\n",
              "      <td>218.630005</td>\n",
              "      <td>213.000000</td>\n",
              "      <td>214.289993</td>\n",
              "      <td>79943300</td>\n",
              "      <td>0.0</td>\n",
              "      <td>0.0</td>\n",
              "    </tr>\n",
              "    <tr>\n",
              "      <th>4</th>\n",
              "      <td>Forget Nvidia: Why Apple’s AI Bombshell Could ...</td>\n",
              "      <td>2024-06-18</td>\n",
              "      <td>217.589996</td>\n",
              "      <td>218.630005</td>\n",
              "      <td>213.000000</td>\n",
              "      <td>214.289993</td>\n",
              "      <td>79943300</td>\n",
              "      <td>0.0</td>\n",
              "      <td>0.0</td>\n",
              "    </tr>\n",
              "    <tr>\n",
              "      <th>...</th>\n",
              "      <td>...</td>\n",
              "      <td>...</td>\n",
              "      <td>...</td>\n",
              "      <td>...</td>\n",
              "      <td>...</td>\n",
              "      <td>...</td>\n",
              "      <td>...</td>\n",
              "      <td>...</td>\n",
              "      <td>...</td>\n",
              "    </tr>\n",
              "    <tr>\n",
              "      <th>8764</th>\n",
              "      <td>Christmas Left Too Many Toys Behind in Target’...</td>\n",
              "      <td>2020-01-17</td>\n",
              "      <td>76.931910</td>\n",
              "      <td>77.532731</td>\n",
              "      <td>76.622988</td>\n",
              "      <td>77.530304</td>\n",
              "      <td>137816400</td>\n",
              "      <td>0.0</td>\n",
              "      <td>0.0</td>\n",
              "    </tr>\n",
              "    <tr>\n",
              "      <th>8765</th>\n",
              "      <td>'No way' Apple breaking encryption for FBI wou...</td>\n",
              "      <td>2020-01-17</td>\n",
              "      <td>76.931910</td>\n",
              "      <td>77.532731</td>\n",
              "      <td>76.622988</td>\n",
              "      <td>77.530304</td>\n",
              "      <td>137816400</td>\n",
              "      <td>0.0</td>\n",
              "      <td>0.0</td>\n",
              "    </tr>\n",
              "    <tr>\n",
              "      <th>8766</th>\n",
              "      <td>7 5G Stocks to Connect Your Portfolio To</td>\n",
              "      <td>2020-01-17</td>\n",
              "      <td>76.931910</td>\n",
              "      <td>77.532731</td>\n",
              "      <td>76.622988</td>\n",
              "      <td>77.530304</td>\n",
              "      <td>137816400</td>\n",
              "      <td>0.0</td>\n",
              "      <td>0.0</td>\n",
              "    </tr>\n",
              "    <tr>\n",
              "      <th>8767</th>\n",
              "      <td>Apple Stock Is Getting Too Pricey</td>\n",
              "      <td>2020-01-17</td>\n",
              "      <td>76.931910</td>\n",
              "      <td>77.532731</td>\n",
              "      <td>76.622988</td>\n",
              "      <td>77.530304</td>\n",
              "      <td>137816400</td>\n",
              "      <td>0.0</td>\n",
              "      <td>0.0</td>\n",
              "    </tr>\n",
              "    <tr>\n",
              "      <th>8768</th>\n",
              "      <td>After Apple’s 2019 Run, I Am Going to Take Som...</td>\n",
              "      <td>2020-01-17</td>\n",
              "      <td>76.931910</td>\n",
              "      <td>77.532731</td>\n",
              "      <td>76.622988</td>\n",
              "      <td>77.530304</td>\n",
              "      <td>137816400</td>\n",
              "      <td>0.0</td>\n",
              "      <td>0.0</td>\n",
              "    </tr>\n",
              "  </tbody>\n",
              "</table>\n",
              "<p>8769 rows × 9 columns</p>\n",
              "</div>\n",
              "    <div class=\"colab-df-buttons\">\n",
              "\n",
              "  <div class=\"colab-df-container\">\n",
              "    <button class=\"colab-df-convert\" onclick=\"convertToInteractive('df-a68d5f44-3a6b-4460-a260-5255e3d56a08')\"\n",
              "            title=\"Convert this dataframe to an interactive table.\"\n",
              "            style=\"display:none;\">\n",
              "\n",
              "  <svg xmlns=\"http://www.w3.org/2000/svg\" height=\"24px\" viewBox=\"0 -960 960 960\">\n",
              "    <path d=\"M120-120v-720h720v720H120Zm60-500h600v-160H180v160Zm220 220h160v-160H400v160Zm0 220h160v-160H400v160ZM180-400h160v-160H180v160Zm440 0h160v-160H620v160ZM180-180h160v-160H180v160Zm440 0h160v-160H620v160Z\"/>\n",
              "  </svg>\n",
              "    </button>\n",
              "\n",
              "  <style>\n",
              "    .colab-df-container {\n",
              "      display:flex;\n",
              "      gap: 12px;\n",
              "    }\n",
              "\n",
              "    .colab-df-convert {\n",
              "      background-color: #E8F0FE;\n",
              "      border: none;\n",
              "      border-radius: 50%;\n",
              "      cursor: pointer;\n",
              "      display: none;\n",
              "      fill: #1967D2;\n",
              "      height: 32px;\n",
              "      padding: 0 0 0 0;\n",
              "      width: 32px;\n",
              "    }\n",
              "\n",
              "    .colab-df-convert:hover {\n",
              "      background-color: #E2EBFA;\n",
              "      box-shadow: 0px 1px 2px rgba(60, 64, 67, 0.3), 0px 1px 3px 1px rgba(60, 64, 67, 0.15);\n",
              "      fill: #174EA6;\n",
              "    }\n",
              "\n",
              "    .colab-df-buttons div {\n",
              "      margin-bottom: 4px;\n",
              "    }\n",
              "\n",
              "    [theme=dark] .colab-df-convert {\n",
              "      background-color: #3B4455;\n",
              "      fill: #D2E3FC;\n",
              "    }\n",
              "\n",
              "    [theme=dark] .colab-df-convert:hover {\n",
              "      background-color: #434B5C;\n",
              "      box-shadow: 0px 1px 3px 1px rgba(0, 0, 0, 0.15);\n",
              "      filter: drop-shadow(0px 1px 2px rgba(0, 0, 0, 0.3));\n",
              "      fill: #FFFFFF;\n",
              "    }\n",
              "  </style>\n",
              "\n",
              "    <script>\n",
              "      const buttonEl =\n",
              "        document.querySelector('#df-a68d5f44-3a6b-4460-a260-5255e3d56a08 button.colab-df-convert');\n",
              "      buttonEl.style.display =\n",
              "        google.colab.kernel.accessAllowed ? 'block' : 'none';\n",
              "\n",
              "      async function convertToInteractive(key) {\n",
              "        const element = document.querySelector('#df-a68d5f44-3a6b-4460-a260-5255e3d56a08');\n",
              "        const dataTable =\n",
              "          await google.colab.kernel.invokeFunction('convertToInteractive',\n",
              "                                                    [key], {});\n",
              "        if (!dataTable) return;\n",
              "\n",
              "        const docLinkHtml = 'Like what you see? Visit the ' +\n",
              "          '<a target=\"_blank\" href=https://colab.research.google.com/notebooks/data_table.ipynb>data table notebook</a>'\n",
              "          + ' to learn more about interactive tables.';\n",
              "        element.innerHTML = '';\n",
              "        dataTable['output_type'] = 'display_data';\n",
              "        await google.colab.output.renderOutput(dataTable, element);\n",
              "        const docLink = document.createElement('div');\n",
              "        docLink.innerHTML = docLinkHtml;\n",
              "        element.appendChild(docLink);\n",
              "      }\n",
              "    </script>\n",
              "  </div>\n",
              "\n",
              "\n",
              "<div id=\"df-a9d6fca8-a2ab-4c8e-b37b-a93ebb718fec\">\n",
              "  <button class=\"colab-df-quickchart\" onclick=\"quickchart('df-a9d6fca8-a2ab-4c8e-b37b-a93ebb718fec')\"\n",
              "            title=\"Suggest charts\"\n",
              "            style=\"display:none;\">\n",
              "\n",
              "<svg xmlns=\"http://www.w3.org/2000/svg\" height=\"24px\"viewBox=\"0 0 24 24\"\n",
              "     width=\"24px\">\n",
              "    <g>\n",
              "        <path d=\"M19 3H5c-1.1 0-2 .9-2 2v14c0 1.1.9 2 2 2h14c1.1 0 2-.9 2-2V5c0-1.1-.9-2-2-2zM9 17H7v-7h2v7zm4 0h-2V7h2v10zm4 0h-2v-4h2v4z\"/>\n",
              "    </g>\n",
              "</svg>\n",
              "  </button>\n",
              "\n",
              "<style>\n",
              "  .colab-df-quickchart {\n",
              "      --bg-color: #E8F0FE;\n",
              "      --fill-color: #1967D2;\n",
              "      --hover-bg-color: #E2EBFA;\n",
              "      --hover-fill-color: #174EA6;\n",
              "      --disabled-fill-color: #AAA;\n",
              "      --disabled-bg-color: #DDD;\n",
              "  }\n",
              "\n",
              "  [theme=dark] .colab-df-quickchart {\n",
              "      --bg-color: #3B4455;\n",
              "      --fill-color: #D2E3FC;\n",
              "      --hover-bg-color: #434B5C;\n",
              "      --hover-fill-color: #FFFFFF;\n",
              "      --disabled-bg-color: #3B4455;\n",
              "      --disabled-fill-color: #666;\n",
              "  }\n",
              "\n",
              "  .colab-df-quickchart {\n",
              "    background-color: var(--bg-color);\n",
              "    border: none;\n",
              "    border-radius: 50%;\n",
              "    cursor: pointer;\n",
              "    display: none;\n",
              "    fill: var(--fill-color);\n",
              "    height: 32px;\n",
              "    padding: 0;\n",
              "    width: 32px;\n",
              "  }\n",
              "\n",
              "  .colab-df-quickchart:hover {\n",
              "    background-color: var(--hover-bg-color);\n",
              "    box-shadow: 0 1px 2px rgba(60, 64, 67, 0.3), 0 1px 3px 1px rgba(60, 64, 67, 0.15);\n",
              "    fill: var(--button-hover-fill-color);\n",
              "  }\n",
              "\n",
              "  .colab-df-quickchart-complete:disabled,\n",
              "  .colab-df-quickchart-complete:disabled:hover {\n",
              "    background-color: var(--disabled-bg-color);\n",
              "    fill: var(--disabled-fill-color);\n",
              "    box-shadow: none;\n",
              "  }\n",
              "\n",
              "  .colab-df-spinner {\n",
              "    border: 2px solid var(--fill-color);\n",
              "    border-color: transparent;\n",
              "    border-bottom-color: var(--fill-color);\n",
              "    animation:\n",
              "      spin 1s steps(1) infinite;\n",
              "  }\n",
              "\n",
              "  @keyframes spin {\n",
              "    0% {\n",
              "      border-color: transparent;\n",
              "      border-bottom-color: var(--fill-color);\n",
              "      border-left-color: var(--fill-color);\n",
              "    }\n",
              "    20% {\n",
              "      border-color: transparent;\n",
              "      border-left-color: var(--fill-color);\n",
              "      border-top-color: var(--fill-color);\n",
              "    }\n",
              "    30% {\n",
              "      border-color: transparent;\n",
              "      border-left-color: var(--fill-color);\n",
              "      border-top-color: var(--fill-color);\n",
              "      border-right-color: var(--fill-color);\n",
              "    }\n",
              "    40% {\n",
              "      border-color: transparent;\n",
              "      border-right-color: var(--fill-color);\n",
              "      border-top-color: var(--fill-color);\n",
              "    }\n",
              "    60% {\n",
              "      border-color: transparent;\n",
              "      border-right-color: var(--fill-color);\n",
              "    }\n",
              "    80% {\n",
              "      border-color: transparent;\n",
              "      border-right-color: var(--fill-color);\n",
              "      border-bottom-color: var(--fill-color);\n",
              "    }\n",
              "    90% {\n",
              "      border-color: transparent;\n",
              "      border-bottom-color: var(--fill-color);\n",
              "    }\n",
              "  }\n",
              "</style>\n",
              "\n",
              "  <script>\n",
              "    async function quickchart(key) {\n",
              "      const quickchartButtonEl =\n",
              "        document.querySelector('#' + key + ' button');\n",
              "      quickchartButtonEl.disabled = true;  // To prevent multiple clicks.\n",
              "      quickchartButtonEl.classList.add('colab-df-spinner');\n",
              "      try {\n",
              "        const charts = await google.colab.kernel.invokeFunction(\n",
              "            'suggestCharts', [key], {});\n",
              "      } catch (error) {\n",
              "        console.error('Error during call to suggestCharts:', error);\n",
              "      }\n",
              "      quickchartButtonEl.classList.remove('colab-df-spinner');\n",
              "      quickchartButtonEl.classList.add('colab-df-quickchart-complete');\n",
              "    }\n",
              "    (() => {\n",
              "      let quickchartButtonEl =\n",
              "        document.querySelector('#df-a9d6fca8-a2ab-4c8e-b37b-a93ebb718fec button');\n",
              "      quickchartButtonEl.style.display =\n",
              "        google.colab.kernel.accessAllowed ? 'block' : 'none';\n",
              "    })();\n",
              "  </script>\n",
              "</div>\n",
              "\n",
              "  <div id=\"id_cf3b257b-fdeb-4270-80c2-b207448904b0\">\n",
              "    <style>\n",
              "      .colab-df-generate {\n",
              "        background-color: #E8F0FE;\n",
              "        border: none;\n",
              "        border-radius: 50%;\n",
              "        cursor: pointer;\n",
              "        display: none;\n",
              "        fill: #1967D2;\n",
              "        height: 32px;\n",
              "        padding: 0 0 0 0;\n",
              "        width: 32px;\n",
              "      }\n",
              "\n",
              "      .colab-df-generate:hover {\n",
              "        background-color: #E2EBFA;\n",
              "        box-shadow: 0px 1px 2px rgba(60, 64, 67, 0.3), 0px 1px 3px 1px rgba(60, 64, 67, 0.15);\n",
              "        fill: #174EA6;\n",
              "      }\n",
              "\n",
              "      [theme=dark] .colab-df-generate {\n",
              "        background-color: #3B4455;\n",
              "        fill: #D2E3FC;\n",
              "      }\n",
              "\n",
              "      [theme=dark] .colab-df-generate:hover {\n",
              "        background-color: #434B5C;\n",
              "        box-shadow: 0px 1px 3px 1px rgba(0, 0, 0, 0.15);\n",
              "        filter: drop-shadow(0px 1px 2px rgba(0, 0, 0, 0.3));\n",
              "        fill: #FFFFFF;\n",
              "      }\n",
              "    </style>\n",
              "    <button class=\"colab-df-generate\" onclick=\"generateWithVariable('merge')\"\n",
              "            title=\"Generate code using this dataframe.\"\n",
              "            style=\"display:none;\">\n",
              "\n",
              "  <svg xmlns=\"http://www.w3.org/2000/svg\" height=\"24px\"viewBox=\"0 0 24 24\"\n",
              "       width=\"24px\">\n",
              "    <path d=\"M7,19H8.4L18.45,9,17,7.55,7,17.6ZM5,21V16.75L18.45,3.32a2,2,0,0,1,2.83,0l1.4,1.43a1.91,1.91,0,0,1,.58,1.4,1.91,1.91,0,0,1-.58,1.4L9.25,21ZM18.45,9,17,7.55Zm-12,3A5.31,5.31,0,0,0,4.9,8.1,5.31,5.31,0,0,0,1,6.5,5.31,5.31,0,0,0,4.9,4.9,5.31,5.31,0,0,0,6.5,1,5.31,5.31,0,0,0,8.1,4.9,5.31,5.31,0,0,0,12,6.5,5.46,5.46,0,0,0,6.5,12Z\"/>\n",
              "  </svg>\n",
              "    </button>\n",
              "    <script>\n",
              "      (() => {\n",
              "      const buttonEl =\n",
              "        document.querySelector('#id_cf3b257b-fdeb-4270-80c2-b207448904b0 button.colab-df-generate');\n",
              "      buttonEl.style.display =\n",
              "        google.colab.kernel.accessAllowed ? 'block' : 'none';\n",
              "\n",
              "      buttonEl.onclick = () => {\n",
              "        google.colab.notebook.generateWithVariable('merge');\n",
              "      }\n",
              "      })();\n",
              "    </script>\n",
              "  </div>\n",
              "\n",
              "    </div>\n",
              "  </div>\n"
            ],
            "application/vnd.google.colaboratory.intrinsic+json": {
              "type": "dataframe",
              "variable_name": "merge",
              "summary": "{\n  \"name\": \"merge\",\n  \"rows\": 8769,\n  \"fields\": [\n    {\n      \"column\": \"news\",\n      \"properties\": {\n        \"dtype\": \"string\",\n        \"num_unique_values\": 8461,\n        \"samples\": [\n          \"5 Investment Winners From the Apple 5G iPhone 12 Announcement\",\n          \"Peloton, Apple and Lululemon dominate in Evercore survey of young adults/teens\",\n          \"Magnificent 7 Reality Check: Separating the Studs From the Duds\"\n        ],\n        \"semantic_type\": \"\",\n        \"description\": \"\"\n      }\n    },\n    {\n      \"column\": \"Date\",\n      \"properties\": {\n        \"dtype\": \"object\",\n        \"num_unique_values\": 1108,\n        \"samples\": [\n          \"2022-01-03\",\n          \"2021-07-15\",\n          \"2024-03-28\"\n        ],\n        \"semantic_type\": \"\",\n        \"description\": \"\"\n      }\n    },\n    {\n      \"column\": \"Open\",\n      \"properties\": {\n        \"dtype\": \"number\",\n        \"std\": 37.692619307741985,\n        \"min\": 55.61158902129114,\n        \"max\": 217.58999633789065,\n        \"num_unique_values\": 1107,\n        \"samples\": [\n          175.59704260723726,\n          91.6818543113183,\n          170.41000366210938\n        ],\n        \"semantic_type\": \"\",\n        \"description\": \"\"\n      }\n    },\n    {\n      \"column\": \"High\",\n      \"properties\": {\n        \"dtype\": \"number\",\n        \"std\": 37.957832646238614,\n        \"min\": 55.71399504274664,\n        \"max\": 220.1999969482422,\n        \"num_unique_values\": 1108,\n        \"samples\": [\n          180.58363425046664,\n          147.67939585552452,\n          172.22999572753906\n        ],\n        \"semantic_type\": \"\",\n        \"description\": \"\"\n      }\n    },\n    {\n      \"column\": \"Low\",\n      \"properties\": {\n        \"dtype\": \"number\",\n        \"std\": 37.538431417331395,\n        \"min\": 51.839617155551366,\n        \"max\": 213.0,\n        \"num_unique_values\": 1107,\n        \"samples\": [\n          175.47855423357436,\n          91.64518306181148,\n          170.50999450683594\n        ],\n        \"semantic_type\": \"\",\n        \"description\": \"\"\n      }\n    },\n    {\n      \"column\": \"Close\",\n      \"properties\": {\n        \"dtype\": \"number\",\n        \"std\": 37.7801190938661,\n        \"min\": 54.70699691772461,\n        \"max\": 216.6699981689453,\n        \"num_unique_values\": 1095,\n        \"samples\": [\n          159.9619903564453,\n          189.54812622070312,\n          188.8500061035156\n        ],\n        \"semantic_type\": \"\",\n        \"description\": \"\"\n      }\n    },\n    {\n      \"column\": \"Volume\",\n      \"properties\": {\n        \"dtype\": \"number\",\n        \"std\": 59899248,\n        \"min\": 24048300,\n        \"max\": 426510000,\n        \"num_unique_values\": 1106,\n        \"samples\": [\n          56182000,\n          93251400,\n          65672700\n        ],\n        \"semantic_type\": \"\",\n        \"description\": \"\"\n      }\n    },\n    {\n      \"column\": \"Dividends\",\n      \"properties\": {\n        \"dtype\": \"number\",\n        \"std\": 0.024921562275002113,\n        \"min\": 0.0,\n        \"max\": 0.24,\n        \"num_unique_values\": 6,\n        \"samples\": [\n          0.0,\n          0.24,\n          0.1925\n        ],\n        \"semantic_type\": \"\",\n        \"description\": \"\"\n      }\n    },\n    {\n      \"column\": \"Stock Splits\",\n      \"properties\": {\n        \"dtype\": \"number\",\n        \"std\": 0.08541627768616446,\n        \"min\": 0.0,\n        \"max\": 4.0,\n        \"num_unique_values\": 2,\n        \"samples\": [\n          4.0,\n          0.0\n        ],\n        \"semantic_type\": \"\",\n        \"description\": \"\"\n      }\n    }\n  ]\n}"
            }
          },
          "metadata": {},
          "execution_count": 12
        }
      ],
      "source": [
        "merge"
      ]
    },
    {
      "cell_type": "code",
      "execution_count": null,
      "metadata": {
        "id": "XtaEJv5-VGGO"
      },
      "outputs": [],
      "source": [
        "# To get subjectivity\n",
        "def getSubjectivity(text):\n",
        "  return TextBlob(text).sentiment.subjectivity\n",
        "\n",
        "# To get polarity\n",
        "def getPolarity(text):\n",
        "  return TextBlob(text).sentiment.polarity"
      ]
    },
    {
      "cell_type": "code",
      "execution_count": null,
      "metadata": {
        "id": "UXlgc5KWV7_y"
      },
      "outputs": [],
      "source": [
        "# New columns: subjectivity and polarity\n",
        "merge['Subjectivity'] = merge['news'].apply(getSubjectivity)\n",
        "merge['Polarity'] = merge['news'].apply(getPolarity)"
      ]
    },
    {
      "cell_type": "code",
      "execution_count": null,
      "metadata": {
        "colab": {
          "base_uri": "https://localhost:8080/",
          "height": 331
        },
        "id": "1jfWVvZSWSkI",
        "outputId": "ea6e1369-0311-46a8-bfd7-8206d542e6a9"
      },
      "outputs": [
        {
          "output_type": "execute_result",
          "data": {
            "text/plain": [
              "                                                news        Date        Open  \\\n",
              "0  Apple suspends work on high-end Vision headset...  2024-06-18  217.589996   \n",
              "1  Bubble Trouble: 3 Stocks Ready to Burst Under ...  2024-06-18  217.589996   \n",
              "2  Apple Stops Pay Later Scheme; Unveils Installm...  2024-06-18  217.589996   \n",
              "3       3 Magnificent 7 Stocks to Buy Now: June 2024  2024-06-18  217.589996   \n",
              "\n",
              "         High    Low       Close    Volume  Dividends  Stock Splits  \\\n",
              "0  218.630005  213.0  214.289993  79943300        0.0           0.0   \n",
              "1  218.630005  213.0  214.289993  79943300        0.0           0.0   \n",
              "2  218.630005  213.0  214.289993  79943300        0.0           0.0   \n",
              "3  218.630005  213.0  214.289993  79943300        0.0           0.0   \n",
              "\n",
              "   Subjectivity  Polarity  Compound  Negative  Neutral  Positive  \n",
              "0         0.000     0.000    0.2500     0.000    0.778     0.222  \n",
              "1         0.675     0.275   -0.0516     0.157    0.698     0.145  \n",
              "2         0.000     0.000   -0.2500     0.300    0.700     0.000  \n",
              "3         1.000     1.000    0.5994     0.000    0.672     0.328  "
            ],
            "text/html": [
              "\n",
              "  <div id=\"df-eecb0e85-3ffa-49b6-bb81-0bdac0d12f26\" class=\"colab-df-container\">\n",
              "    <div>\n",
              "<style scoped>\n",
              "    .dataframe tbody tr th:only-of-type {\n",
              "        vertical-align: middle;\n",
              "    }\n",
              "\n",
              "    .dataframe tbody tr th {\n",
              "        vertical-align: top;\n",
              "    }\n",
              "\n",
              "    .dataframe thead th {\n",
              "        text-align: right;\n",
              "    }\n",
              "</style>\n",
              "<table border=\"1\" class=\"dataframe\">\n",
              "  <thead>\n",
              "    <tr style=\"text-align: right;\">\n",
              "      <th></th>\n",
              "      <th>news</th>\n",
              "      <th>Date</th>\n",
              "      <th>Open</th>\n",
              "      <th>High</th>\n",
              "      <th>Low</th>\n",
              "      <th>Close</th>\n",
              "      <th>Volume</th>\n",
              "      <th>Dividends</th>\n",
              "      <th>Stock Splits</th>\n",
              "      <th>Subjectivity</th>\n",
              "      <th>Polarity</th>\n",
              "      <th>Compound</th>\n",
              "      <th>Negative</th>\n",
              "      <th>Neutral</th>\n",
              "      <th>Positive</th>\n",
              "    </tr>\n",
              "  </thead>\n",
              "  <tbody>\n",
              "    <tr>\n",
              "      <th>0</th>\n",
              "      <td>Apple suspends work on high-end Vision headset...</td>\n",
              "      <td>2024-06-18</td>\n",
              "      <td>217.589996</td>\n",
              "      <td>218.630005</td>\n",
              "      <td>213.0</td>\n",
              "      <td>214.289993</td>\n",
              "      <td>79943300</td>\n",
              "      <td>0.0</td>\n",
              "      <td>0.0</td>\n",
              "      <td>0.000</td>\n",
              "      <td>0.000</td>\n",
              "      <td>0.2500</td>\n",
              "      <td>0.000</td>\n",
              "      <td>0.778</td>\n",
              "      <td>0.222</td>\n",
              "    </tr>\n",
              "    <tr>\n",
              "      <th>1</th>\n",
              "      <td>Bubble Trouble: 3 Stocks Ready to Burst Under ...</td>\n",
              "      <td>2024-06-18</td>\n",
              "      <td>217.589996</td>\n",
              "      <td>218.630005</td>\n",
              "      <td>213.0</td>\n",
              "      <td>214.289993</td>\n",
              "      <td>79943300</td>\n",
              "      <td>0.0</td>\n",
              "      <td>0.0</td>\n",
              "      <td>0.675</td>\n",
              "      <td>0.275</td>\n",
              "      <td>-0.0516</td>\n",
              "      <td>0.157</td>\n",
              "      <td>0.698</td>\n",
              "      <td>0.145</td>\n",
              "    </tr>\n",
              "    <tr>\n",
              "      <th>2</th>\n",
              "      <td>Apple Stops Pay Later Scheme; Unveils Installm...</td>\n",
              "      <td>2024-06-18</td>\n",
              "      <td>217.589996</td>\n",
              "      <td>218.630005</td>\n",
              "      <td>213.0</td>\n",
              "      <td>214.289993</td>\n",
              "      <td>79943300</td>\n",
              "      <td>0.0</td>\n",
              "      <td>0.0</td>\n",
              "      <td>0.000</td>\n",
              "      <td>0.000</td>\n",
              "      <td>-0.2500</td>\n",
              "      <td>0.300</td>\n",
              "      <td>0.700</td>\n",
              "      <td>0.000</td>\n",
              "    </tr>\n",
              "    <tr>\n",
              "      <th>3</th>\n",
              "      <td>3 Magnificent 7 Stocks to Buy Now: June 2024</td>\n",
              "      <td>2024-06-18</td>\n",
              "      <td>217.589996</td>\n",
              "      <td>218.630005</td>\n",
              "      <td>213.0</td>\n",
              "      <td>214.289993</td>\n",
              "      <td>79943300</td>\n",
              "      <td>0.0</td>\n",
              "      <td>0.0</td>\n",
              "      <td>1.000</td>\n",
              "      <td>1.000</td>\n",
              "      <td>0.5994</td>\n",
              "      <td>0.000</td>\n",
              "      <td>0.672</td>\n",
              "      <td>0.328</td>\n",
              "    </tr>\n",
              "  </tbody>\n",
              "</table>\n",
              "</div>\n",
              "    <div class=\"colab-df-buttons\">\n",
              "\n",
              "  <div class=\"colab-df-container\">\n",
              "    <button class=\"colab-df-convert\" onclick=\"convertToInteractive('df-eecb0e85-3ffa-49b6-bb81-0bdac0d12f26')\"\n",
              "            title=\"Convert this dataframe to an interactive table.\"\n",
              "            style=\"display:none;\">\n",
              "\n",
              "  <svg xmlns=\"http://www.w3.org/2000/svg\" height=\"24px\" viewBox=\"0 -960 960 960\">\n",
              "    <path d=\"M120-120v-720h720v720H120Zm60-500h600v-160H180v160Zm220 220h160v-160H400v160Zm0 220h160v-160H400v160ZM180-400h160v-160H180v160Zm440 0h160v-160H620v160ZM180-180h160v-160H180v160Zm440 0h160v-160H620v160Z\"/>\n",
              "  </svg>\n",
              "    </button>\n",
              "\n",
              "  <style>\n",
              "    .colab-df-container {\n",
              "      display:flex;\n",
              "      gap: 12px;\n",
              "    }\n",
              "\n",
              "    .colab-df-convert {\n",
              "      background-color: #E8F0FE;\n",
              "      border: none;\n",
              "      border-radius: 50%;\n",
              "      cursor: pointer;\n",
              "      display: none;\n",
              "      fill: #1967D2;\n",
              "      height: 32px;\n",
              "      padding: 0 0 0 0;\n",
              "      width: 32px;\n",
              "    }\n",
              "\n",
              "    .colab-df-convert:hover {\n",
              "      background-color: #E2EBFA;\n",
              "      box-shadow: 0px 1px 2px rgba(60, 64, 67, 0.3), 0px 1px 3px 1px rgba(60, 64, 67, 0.15);\n",
              "      fill: #174EA6;\n",
              "    }\n",
              "\n",
              "    .colab-df-buttons div {\n",
              "      margin-bottom: 4px;\n",
              "    }\n",
              "\n",
              "    [theme=dark] .colab-df-convert {\n",
              "      background-color: #3B4455;\n",
              "      fill: #D2E3FC;\n",
              "    }\n",
              "\n",
              "    [theme=dark] .colab-df-convert:hover {\n",
              "      background-color: #434B5C;\n",
              "      box-shadow: 0px 1px 3px 1px rgba(0, 0, 0, 0.15);\n",
              "      filter: drop-shadow(0px 1px 2px rgba(0, 0, 0, 0.3));\n",
              "      fill: #FFFFFF;\n",
              "    }\n",
              "  </style>\n",
              "\n",
              "    <script>\n",
              "      const buttonEl =\n",
              "        document.querySelector('#df-eecb0e85-3ffa-49b6-bb81-0bdac0d12f26 button.colab-df-convert');\n",
              "      buttonEl.style.display =\n",
              "        google.colab.kernel.accessAllowed ? 'block' : 'none';\n",
              "\n",
              "      async function convertToInteractive(key) {\n",
              "        const element = document.querySelector('#df-eecb0e85-3ffa-49b6-bb81-0bdac0d12f26');\n",
              "        const dataTable =\n",
              "          await google.colab.kernel.invokeFunction('convertToInteractive',\n",
              "                                                    [key], {});\n",
              "        if (!dataTable) return;\n",
              "\n",
              "        const docLinkHtml = 'Like what you see? Visit the ' +\n",
              "          '<a target=\"_blank\" href=https://colab.research.google.com/notebooks/data_table.ipynb>data table notebook</a>'\n",
              "          + ' to learn more about interactive tables.';\n",
              "        element.innerHTML = '';\n",
              "        dataTable['output_type'] = 'display_data';\n",
              "        await google.colab.output.renderOutput(dataTable, element);\n",
              "        const docLink = document.createElement('div');\n",
              "        docLink.innerHTML = docLinkHtml;\n",
              "        element.appendChild(docLink);\n",
              "      }\n",
              "    </script>\n",
              "  </div>\n",
              "\n",
              "\n",
              "<div id=\"df-612059ad-1e16-4979-ad4a-6460328dd568\">\n",
              "  <button class=\"colab-df-quickchart\" onclick=\"quickchart('df-612059ad-1e16-4979-ad4a-6460328dd568')\"\n",
              "            title=\"Suggest charts\"\n",
              "            style=\"display:none;\">\n",
              "\n",
              "<svg xmlns=\"http://www.w3.org/2000/svg\" height=\"24px\"viewBox=\"0 0 24 24\"\n",
              "     width=\"24px\">\n",
              "    <g>\n",
              "        <path d=\"M19 3H5c-1.1 0-2 .9-2 2v14c0 1.1.9 2 2 2h14c1.1 0 2-.9 2-2V5c0-1.1-.9-2-2-2zM9 17H7v-7h2v7zm4 0h-2V7h2v10zm4 0h-2v-4h2v4z\"/>\n",
              "    </g>\n",
              "</svg>\n",
              "  </button>\n",
              "\n",
              "<style>\n",
              "  .colab-df-quickchart {\n",
              "      --bg-color: #E8F0FE;\n",
              "      --fill-color: #1967D2;\n",
              "      --hover-bg-color: #E2EBFA;\n",
              "      --hover-fill-color: #174EA6;\n",
              "      --disabled-fill-color: #AAA;\n",
              "      --disabled-bg-color: #DDD;\n",
              "  }\n",
              "\n",
              "  [theme=dark] .colab-df-quickchart {\n",
              "      --bg-color: #3B4455;\n",
              "      --fill-color: #D2E3FC;\n",
              "      --hover-bg-color: #434B5C;\n",
              "      --hover-fill-color: #FFFFFF;\n",
              "      --disabled-bg-color: #3B4455;\n",
              "      --disabled-fill-color: #666;\n",
              "  }\n",
              "\n",
              "  .colab-df-quickchart {\n",
              "    background-color: var(--bg-color);\n",
              "    border: none;\n",
              "    border-radius: 50%;\n",
              "    cursor: pointer;\n",
              "    display: none;\n",
              "    fill: var(--fill-color);\n",
              "    height: 32px;\n",
              "    padding: 0;\n",
              "    width: 32px;\n",
              "  }\n",
              "\n",
              "  .colab-df-quickchart:hover {\n",
              "    background-color: var(--hover-bg-color);\n",
              "    box-shadow: 0 1px 2px rgba(60, 64, 67, 0.3), 0 1px 3px 1px rgba(60, 64, 67, 0.15);\n",
              "    fill: var(--button-hover-fill-color);\n",
              "  }\n",
              "\n",
              "  .colab-df-quickchart-complete:disabled,\n",
              "  .colab-df-quickchart-complete:disabled:hover {\n",
              "    background-color: var(--disabled-bg-color);\n",
              "    fill: var(--disabled-fill-color);\n",
              "    box-shadow: none;\n",
              "  }\n",
              "\n",
              "  .colab-df-spinner {\n",
              "    border: 2px solid var(--fill-color);\n",
              "    border-color: transparent;\n",
              "    border-bottom-color: var(--fill-color);\n",
              "    animation:\n",
              "      spin 1s steps(1) infinite;\n",
              "  }\n",
              "\n",
              "  @keyframes spin {\n",
              "    0% {\n",
              "      border-color: transparent;\n",
              "      border-bottom-color: var(--fill-color);\n",
              "      border-left-color: var(--fill-color);\n",
              "    }\n",
              "    20% {\n",
              "      border-color: transparent;\n",
              "      border-left-color: var(--fill-color);\n",
              "      border-top-color: var(--fill-color);\n",
              "    }\n",
              "    30% {\n",
              "      border-color: transparent;\n",
              "      border-left-color: var(--fill-color);\n",
              "      border-top-color: var(--fill-color);\n",
              "      border-right-color: var(--fill-color);\n",
              "    }\n",
              "    40% {\n",
              "      border-color: transparent;\n",
              "      border-right-color: var(--fill-color);\n",
              "      border-top-color: var(--fill-color);\n",
              "    }\n",
              "    60% {\n",
              "      border-color: transparent;\n",
              "      border-right-color: var(--fill-color);\n",
              "    }\n",
              "    80% {\n",
              "      border-color: transparent;\n",
              "      border-right-color: var(--fill-color);\n",
              "      border-bottom-color: var(--fill-color);\n",
              "    }\n",
              "    90% {\n",
              "      border-color: transparent;\n",
              "      border-bottom-color: var(--fill-color);\n",
              "    }\n",
              "  }\n",
              "</style>\n",
              "\n",
              "  <script>\n",
              "    async function quickchart(key) {\n",
              "      const quickchartButtonEl =\n",
              "        document.querySelector('#' + key + ' button');\n",
              "      quickchartButtonEl.disabled = true;  // To prevent multiple clicks.\n",
              "      quickchartButtonEl.classList.add('colab-df-spinner');\n",
              "      try {\n",
              "        const charts = await google.colab.kernel.invokeFunction(\n",
              "            'suggestCharts', [key], {});\n",
              "      } catch (error) {\n",
              "        console.error('Error during call to suggestCharts:', error);\n",
              "      }\n",
              "      quickchartButtonEl.classList.remove('colab-df-spinner');\n",
              "      quickchartButtonEl.classList.add('colab-df-quickchart-complete');\n",
              "    }\n",
              "    (() => {\n",
              "      let quickchartButtonEl =\n",
              "        document.querySelector('#df-612059ad-1e16-4979-ad4a-6460328dd568 button');\n",
              "      quickchartButtonEl.style.display =\n",
              "        google.colab.kernel.accessAllowed ? 'block' : 'none';\n",
              "    })();\n",
              "  </script>\n",
              "</div>\n",
              "\n",
              "    </div>\n",
              "  </div>\n"
            ],
            "application/vnd.google.colaboratory.intrinsic+json": {
              "type": "dataframe",
              "variable_name": "merge",
              "summary": "{\n  \"name\": \"merge\",\n  \"rows\": 8769,\n  \"fields\": [\n    {\n      \"column\": \"news\",\n      \"properties\": {\n        \"dtype\": \"string\",\n        \"num_unique_values\": 8461,\n        \"samples\": [\n          \"5 Investment Winners From the Apple 5G iPhone 12 Announcement\",\n          \"Peloton, Apple and Lululemon dominate in Evercore survey of young adults/teens\",\n          \"Magnificent 7 Reality Check: Separating the Studs From the Duds\"\n        ],\n        \"semantic_type\": \"\",\n        \"description\": \"\"\n      }\n    },\n    {\n      \"column\": \"Date\",\n      \"properties\": {\n        \"dtype\": \"object\",\n        \"num_unique_values\": 1108,\n        \"samples\": [\n          \"2022-01-03\",\n          \"2021-07-15\",\n          \"2024-03-28\"\n        ],\n        \"semantic_type\": \"\",\n        \"description\": \"\"\n      }\n    },\n    {\n      \"column\": \"Open\",\n      \"properties\": {\n        \"dtype\": \"number\",\n        \"std\": 37.692619307741985,\n        \"min\": 55.61158902129114,\n        \"max\": 217.58999633789065,\n        \"num_unique_values\": 1107,\n        \"samples\": [\n          175.59704260723726,\n          91.6818543113183,\n          170.41000366210938\n        ],\n        \"semantic_type\": \"\",\n        \"description\": \"\"\n      }\n    },\n    {\n      \"column\": \"High\",\n      \"properties\": {\n        \"dtype\": \"number\",\n        \"std\": 37.957832646238614,\n        \"min\": 55.71399504274664,\n        \"max\": 220.1999969482422,\n        \"num_unique_values\": 1108,\n        \"samples\": [\n          180.58363425046664,\n          147.67939585552452,\n          172.22999572753906\n        ],\n        \"semantic_type\": \"\",\n        \"description\": \"\"\n      }\n    },\n    {\n      \"column\": \"Low\",\n      \"properties\": {\n        \"dtype\": \"number\",\n        \"std\": 37.538431417331395,\n        \"min\": 51.839617155551366,\n        \"max\": 213.0,\n        \"num_unique_values\": 1107,\n        \"samples\": [\n          175.47855423357436,\n          91.64518306181148,\n          170.50999450683594\n        ],\n        \"semantic_type\": \"\",\n        \"description\": \"\"\n      }\n    },\n    {\n      \"column\": \"Close\",\n      \"properties\": {\n        \"dtype\": \"number\",\n        \"std\": 37.7801190938661,\n        \"min\": 54.70699691772461,\n        \"max\": 216.6699981689453,\n        \"num_unique_values\": 1095,\n        \"samples\": [\n          159.9619903564453,\n          189.54812622070312,\n          188.8500061035156\n        ],\n        \"semantic_type\": \"\",\n        \"description\": \"\"\n      }\n    },\n    {\n      \"column\": \"Volume\",\n      \"properties\": {\n        \"dtype\": \"number\",\n        \"std\": 59899248,\n        \"min\": 24048300,\n        \"max\": 426510000,\n        \"num_unique_values\": 1106,\n        \"samples\": [\n          56182000,\n          93251400,\n          65672700\n        ],\n        \"semantic_type\": \"\",\n        \"description\": \"\"\n      }\n    },\n    {\n      \"column\": \"Dividends\",\n      \"properties\": {\n        \"dtype\": \"number\",\n        \"std\": 0.024921562275002113,\n        \"min\": 0.0,\n        \"max\": 0.24,\n        \"num_unique_values\": 6,\n        \"samples\": [\n          0.0,\n          0.24,\n          0.1925\n        ],\n        \"semantic_type\": \"\",\n        \"description\": \"\"\n      }\n    },\n    {\n      \"column\": \"Stock Splits\",\n      \"properties\": {\n        \"dtype\": \"number\",\n        \"std\": 0.08541627768616446,\n        \"min\": 0.0,\n        \"max\": 4.0,\n        \"num_unique_values\": 2,\n        \"samples\": [\n          4.0,\n          0.0\n        ],\n        \"semantic_type\": \"\",\n        \"description\": \"\"\n      }\n    },\n    {\n      \"column\": \"Subjectivity\",\n      \"properties\": {\n        \"dtype\": \"number\",\n        \"std\": 0.31462680742572596,\n        \"min\": 0.0,\n        \"max\": 1.0,\n        \"num_unique_values\": 420,\n        \"samples\": [\n          0.3083333333333333,\n          0.5111111111111111\n        ],\n        \"semantic_type\": \"\",\n        \"description\": \"\"\n      }\n    },\n    {\n      \"column\": \"Polarity\",\n      \"properties\": {\n        \"dtype\": \"number\",\n        \"std\": 0.2681407134301407,\n        \"min\": -1.0,\n        \"max\": 1.0,\n        \"num_unique_values\": 478,\n        \"samples\": [\n          0.050000000000000024,\n          0.75\n        ],\n        \"semantic_type\": \"\",\n        \"description\": \"\"\n      }\n    },\n    {\n      \"column\": \"Compound\",\n      \"properties\": {\n        \"dtype\": \"number\",\n        \"std\": 0.3195728229983825,\n        \"min\": -0.9081,\n        \"max\": 0.9062,\n        \"num_unique_values\": 452,\n        \"samples\": [\n          -0.8047,\n          0.296\n        ],\n        \"semantic_type\": \"\",\n        \"description\": \"\"\n      }\n    },\n    {\n      \"column\": \"Negative\",\n      \"properties\": {\n        \"dtype\": \"number\",\n        \"std\": 0.09542269795171456,\n        \"min\": 0.0,\n        \"max\": 0.667,\n        \"num_unique_values\": 371,\n        \"samples\": [\n          0.519,\n          0.13\n        ],\n        \"semantic_type\": \"\",\n        \"description\": \"\"\n      }\n    },\n    {\n      \"column\": \"Neutral\",\n      \"properties\": {\n        \"dtype\": \"number\",\n        \"std\": 0.1564050973478498,\n        \"min\": 0.234,\n        \"max\": 1.0,\n        \"num_unique_values\": 504,\n        \"samples\": [\n          0.811,\n          0.73\n        ],\n        \"semantic_type\": \"\",\n        \"description\": \"\"\n      }\n    },\n    {\n      \"column\": \"Positive\",\n      \"properties\": {\n        \"dtype\": \"number\",\n        \"std\": 0.138017011083194,\n        \"min\": 0.0,\n        \"max\": 0.702,\n        \"num_unique_values\": 471,\n        \"samples\": [\n          0.114,\n          0.481\n        ],\n        \"semantic_type\": \"\",\n        \"description\": \"\"\n      }\n    }\n  ]\n}"
            }
          },
          "metadata": {},
          "execution_count": 49
        }
      ],
      "source": [
        "#View new columns\n",
        "merge.head(4)"
      ]
    },
    {
      "cell_type": "code",
      "execution_count": null,
      "metadata": {
        "id": "qDluoLFNWerM"
      },
      "outputs": [],
      "source": [
        "# To get sentiment scores\n",
        "def getSIA(text):\n",
        "  sia = SentimentIntensityAnalyzer()\n",
        "  sentiment = sia.polarity_scores(text)\n",
        "  return sentiment"
      ]
    },
    {
      "cell_type": "code",
      "execution_count": null,
      "metadata": {
        "id": "Ct4whVQNW_kx"
      },
      "outputs": [],
      "source": [
        "# Get the sentiment scores\n",
        "compound = []\n",
        "neg = []\n",
        "neu = []\n",
        "pos = []\n",
        "SIA = 0\n",
        "\n",
        "for i in range(0, len(merge['news'])):\n",
        "  SIA = getSIA(merge['news'][i])\n",
        "  compound.append(SIA['compound'])\n",
        "  neg.append(SIA['neg'])\n",
        "  neu.append(SIA['neu'])\n",
        "  pos.append(SIA['pos'])"
      ]
    },
    {
      "cell_type": "code",
      "execution_count": null,
      "metadata": {
        "id": "jI_8s7OxXgb5"
      },
      "outputs": [],
      "source": [
        "# Storing scores in merge data set\n",
        "merge['Compound'] = compound\n",
        "merge['Negative'] = neg\n",
        "merge['Neutral'] = neu\n",
        "merge['Positive'] = pos"
      ]
    },
    {
      "cell_type": "code",
      "execution_count": null,
      "metadata": {
        "id": "kvednLwcZQuS"
      },
      "outputs": [],
      "source": [
        "# Checking our merge data\n",
        "merge.head(4)"
      ]
    },
    {
      "cell_type": "code",
      "execution_count": null,
      "metadata": {
        "id": "9MHBY0SAZTza"
      },
      "outputs": [],
      "source": [
        "#Creating list of column\n",
        "keep_columns = ['Open', 'High', 'Low', 'Close', 'Volume', 'Subjectivity', 'Polarity', 'Compound', 'Negative', 'Neutral', 'Positive']\n",
        "df = merge[keep_columns]\n",
        "df"
      ]
    },
    {
      "cell_type": "code",
      "execution_count": null,
      "metadata": {
        "id": "1VN7Re2u3Run"
      },
      "outputs": [],
      "source": [
        "df['Labels'] = (df['Close'].shift(-1) >= df['Close']).astype(int)\n",
        "\n",
        "# Drop the last row with NaN in 'labels'\n",
        "df = df.dropna(subset=['Labels'])\n",
        "df"
      ]
    },
    {
      "cell_type": "code",
      "execution_count": null,
      "metadata": {
        "id": "EM1EGWmXaMy-"
      },
      "outputs": [],
      "source": [
        "#Create feature dataset\n",
        "x = df\n",
        "x = np.array(x.drop(['Labels'], axis=1))\n",
        "#Create the target dataset\n",
        "y = np.array(df['Labels'])"
      ]
    },
    {
      "cell_type": "code",
      "execution_count": null,
      "metadata": {
        "id": "JeVuW3K1_cHW"
      },
      "outputs": [],
      "source": [
        "#splitting data into 80% training and 20% testing data sets\n",
        "x_train, x_test, y_train, y_test = train_test_split(x, y, test_size=0.2, random_state=0)"
      ]
    },
    {
      "cell_type": "code",
      "execution_count": null,
      "metadata": {
        "id": "g014OcPyAMPH"
      },
      "outputs": [],
      "source": [
        "model = LinearDiscriminantAnalysis().fit(x_train, y_train)"
      ]
    },
    {
      "cell_type": "code",
      "execution_count": null,
      "metadata": {
        "id": "fBCxJGerAYOt"
      },
      "outputs": [],
      "source": [
        "#Show the model predictions\n",
        "predictions = model.predict(x_test)\n",
        "predictions"
      ]
    },
    {
      "cell_type": "code",
      "execution_count": null,
      "metadata": {
        "id": "cQ6q7gk6Aiw6"
      },
      "outputs": [],
      "source": [
        "y_test"
      ]
    },
    {
      "cell_type": "code",
      "execution_count": null,
      "metadata": {
        "id": "3GCiV-WAAnIT"
      },
      "outputs": [],
      "source": [
        "# Model Metrics\n",
        "print(classification_report(y_test, predictions))"
      ]
    },
    {
      "cell_type": "code",
      "execution_count": null,
      "metadata": {
        "id": "sSTRquNh-kMp"
      },
      "outputs": [],
      "source": [
        "#ACCURACY"
      ]
    },
    {
      "cell_type": "code",
      "execution_count": null,
      "metadata": {
        "id": "q4aCYlNF-YgI"
      },
      "outputs": [],
      "source": [
        "# Model Metrics\n",
        "from sklearn.metrics import classification_report, confusion_matrix, accuracy_score\n",
        "print(classification_report(y_test, predictions))\n",
        "\n",
        "# Calculate accuracy using the score method\n",
        "accuracy_score_method = model.score(x_test, y_test)\n",
        "print(\"Accuracy using score method:\", accuracy_score_method)\n",
        "\n",
        "# Calculate accuracy using accuracy_score\n",
        "accuracy = accuracy_score(y_test, predictions)\n",
        "print(\"Accuracy using accuracy_score:\", accuracy)\n",
        "\n",
        "# Compute confusion matrix\n",
        "conf_matrix = confusion_matrix(y_test, predictions) # Import confusion_matrix\n",
        "print(\"Confusion Matrix:\\n\", conf_matrix)\n",
        "\n",
        "# Calculate accuracy from confusion matrix\n",
        "accuracy_from_confusion_matrix = conf_matrix.diagonal().sum() / conf_matrix.sum()\n",
        "print(\"Accuracy from confusion matrix:\", accuracy_from_confusion_matrix)"
      ]
    },
    {
      "cell_type": "code",
      "execution_count": null,
      "metadata": {
        "id": "DjU-KoJn_eCp"
      },
      "outputs": [],
      "source": [
        "#RECALL"
      ]
    },
    {
      "cell_type": "code",
      "execution_count": null,
      "metadata": {
        "id": "-v1DFPYs-_Wy"
      },
      "outputs": [],
      "source": [
        "import pandas as pd\n",
        "from sklearn.discriminant_analysis import LinearDiscriminantAnalysis\n",
        "from sklearn.model_selection import train_test_split\n",
        "from sklearn.metrics import recall_score, f1_score, roc_curve, roc_auc_score, auc\n",
        "import matplotlib.pyplot as plt\n",
        "# Calculate recall\n",
        "recall = recall_score(y_test, predictions)\n",
        "print(\"Recall:\", recall)"
      ]
    },
    {
      "cell_type": "code",
      "execution_count": null,
      "metadata": {
        "id": "VCjrQyKj_kmz"
      },
      "outputs": [],
      "source": [
        "#F1-SCORE"
      ]
    },
    {
      "cell_type": "code",
      "execution_count": null,
      "metadata": {
        "id": "ORKbFc_v_ouU"
      },
      "outputs": [],
      "source": [
        "f1 = f1_score(y_test, predictions)\n",
        "print(\"F1-score:\", f1)"
      ]
    },
    {
      "cell_type": "code",
      "execution_count": null,
      "metadata": {
        "id": "fNspwHjU_rMr"
      },
      "outputs": [],
      "source": [
        "#ROC CURVE ANALYSIS"
      ]
    },
    {
      "cell_type": "code",
      "execution_count": null,
      "metadata": {
        "id": "OkMpYz-Z_xXz"
      },
      "outputs": [],
      "source": [
        "prob_predictions = model.predict_proba(x_test)[:, 1]\n",
        "\n",
        "fpr, tpr, thresholds = roc_curve(y_test, prob_predictions)\n",
        "roc_auc = auc(fpr, tpr)\n",
        "print(\"ROC AUC:\", roc_auc)\n",
        "\n",
        "# Plot ROC curve\n",
        "plt.figure()\n",
        "plt.plot(fpr, tpr, color='blue', lw=2, label=f'ROC curve (area = {roc_auc:.2f})')\n",
        "plt.plot([0, 1], [0, 1], color='grey', lw=2, linestyle='--')\n",
        "plt.xlim([0.0, 1.0])\n",
        "plt.ylim([0.0, 1.05])\n",
        "plt.xlabel('False Positive Rate')\n",
        "plt.ylabel('True Positive Rate')\n",
        "plt.title('Receiver Operating Characteristic (ROC) Curve')\n",
        "plt.legend(loc='lower right')\n",
        "plt.grid()\n",
        "plt.show()"
      ]
    },
    {
      "cell_type": "code",
      "execution_count": null,
      "metadata": {
        "id": "AdtvVOWZ_1Z6"
      },
      "outputs": [],
      "source": [
        "#Find buy and sell points according to the sentiment, plot them in a chart and calculate the final portfolio and returns"
      ]
    },
    {
      "cell_type": "code",
      "execution_count": null,
      "metadata": {
        "id": "T6XAKv18AU79"
      },
      "outputs": [],
      "source": [
        "# Initialize buy/sell points\n",
        "df['signal'] = 0\n",
        "df['signal'][df['Compound'] > 0] = 1  # Buy signal\n",
        "df['signal'][df['Compound'] < 0] = -1  # Sell signal\n",
        "\n",
        "# Carry forward the last signal if no signal on the current day\n",
        "df['position'] = df['signal'].replace(to_replace=0, method='ffill')\n"
      ]
    },
    {
      "cell_type": "code",
      "execution_count": null,
      "metadata": {
        "id": "-KqgvAT6BNCH"
      },
      "outputs": [],
      "source": [
        "# Initial capital\n",
        "initial_capital = 10000\n",
        "shares = 0\n",
        "capital = initial_capital\n",
        "portfolio_value = []\n",
        "trade_results = []\n",
        "\n",
        "# Iterate through the DataFrame to simulate trading\n",
        "for index, row in df.iterrows():\n",
        "    if row['position'] == 1 and shares == 0:  # Buy\n",
        "        shares = capital / row['Close']\n",
        "        capital = 0\n",
        "        buy_price = row['Close']\n",
        "        trade_results.append(0)\n",
        "    elif row['position'] == -1 and shares > 0:  # Sell\n",
        "        capital = shares * row['Close']\n",
        "        shares = 0\n",
        "        trade_results[-1] = row['Close'] - buy_price\n",
        "    portfolio_value.append(capital + shares * row['Close'])\n",
        "\n",
        "df['portfolio_value'] = portfolio_value\n",
        "\n",
        "# Calculate returns\n",
        "df['daily_return'] = df['portfolio_value'].pct_change().fillna(0)\n",
        "df['cumulative_return'] = (1 + df['daily_return']).cumprod() - 1\n",
        "final_portfolio_value = df['portfolio_value'].iloc[-1]\n",
        "total_return = df['cumulative_return'].iloc[-1]\n",
        "\n",
        "print(df[['Close', 'Compound', 'signal', 'portfolio_value', 'cumulative_return']])\n",
        "print(\"Final Portfolio Value: \", final_portfolio_value)\n",
        "print(\"Total Return: \", total_return)"
      ]
    },
    {
      "cell_type": "code",
      "execution_count": null,
      "metadata": {
        "id": "-Mynqa6yCUuB"
      },
      "outputs": [],
      "source": [
        "# Plot close prices and portfolio value with buy/sell signals\n",
        "plt.figure(figsize=(14, 7))\n",
        "plt.plot(df.index, df['Close'], label='Close Price', color='blue')\n",
        "plt.plot(df.index, df['portfolio_value'], label='Portfolio Value', color='green')\n",
        "\n",
        "# Mark buy/sell signals\n",
        "buy_signals = df[df['signal'] == 1]\n",
        "sell_signals = df[df['signal'] == -1]\n",
        "plt.scatter(buy_signals.index, buy_signals['Close'], marker='^', color='green', label='Buy Signal')\n",
        "plt.scatter(sell_signals.index, sell_signals['Close'], marker='v', color='red', label='Sell Signal')\n",
        "\n",
        "plt.title('Stock Price, Buy/Sell Points and Portfolio Value')\n",
        "plt.xlabel('Date')\n",
        "plt.ylabel('Price')\n",
        "plt.legend()\n",
        "plt.grid()\n",
        "plt.show()\n"
      ]
    },
    {
      "cell_type": "code",
      "execution_count": null,
      "metadata": {
        "id": "UvKTj4mACfVg"
      },
      "outputs": [],
      "source": [
        "# Calculate returns\n",
        "df['daily_return'] = df['portfolio_value'].pct_change().fillna(0)\n",
        "df['cumulative_return'] = (1 + df['daily_return']).cumprod() - 1\n",
        "final_portfolio_value = df['portfolio_value'].iloc[-1]\n",
        "total_return = df['cumulative_return'].iloc[-1]\n",
        "print(\"Total Return: \", total_return)"
      ]
    },
    {
      "cell_type": "code",
      "execution_count": null,
      "metadata": {
        "id": "TeTrDAqwcD53",
        "colab": {
          "base_uri": "https://localhost:8080/"
        },
        "outputId": "b4ee60fa-72a4-4e59-8d76-dd3a51ec9817"
      },
      "outputs": [
        {
          "metadata": {
            "tags": null
          },
          "name": "stdout",
          "output_type": "stream",
          "text": [
            "Sharpe Ratio:  -0.4738341276353246\n"
          ]
        }
      ],
      "source": [
        "# Sharpe ratio\n",
        "risk_free_rate = 0.02  # Example risk-free rate\n",
        "annualized_return = df['daily_return'].mean() * 252  # Assuming 252 trading days in a year\n",
        "annualized_volatility = df['daily_return'].std() * np.sqrt(252)\n",
        "sharpe_ratio = (annualized_return - risk_free_rate) / annualized_volatility\n",
        "print(\"Sharpe Ratio: \", sharpe_ratio)"
      ]
    },
    {
      "cell_type": "code",
      "source": [
        "# Maximum drawdown\n",
        "df['peak'] = df['portfolio_value'].cummax()\n",
        "df['drawdown'] = (df['portfolio_value'] - df['peak']) / df['peak']\n",
        "max_drawdown = df['drawdown'].min()\n",
        "print(\"Maximum Drawdown: \", max_drawdown)"
      ],
      "metadata": {
        "colab": {
          "base_uri": "https://localhost:8080/"
        },
        "id": "KXpc0uaL4RKJ",
        "outputId": "b0ab5d1a-3e9c-48ce-ff40-6a35adca1a21"
      },
      "execution_count": null,
      "outputs": [
        {
          "metadata": {
            "tags": null
          },
          "name": "stdout",
          "output_type": "stream",
          "text": [
            "Maximum Drawdown:  -0.745417904687082\n"
          ]
        }
      ]
    },
    {
      "cell_type": "code",
      "source": [
        "# Number of trades executed\n",
        "number_of_trades = len(trade_results)\n",
        "print(\"Number of Trades: \", number_of_trades)"
      ],
      "metadata": {
        "colab": {
          "base_uri": "https://localhost:8080/"
        },
        "id": "lbkk6XBR4WpU",
        "outputId": "12108b5a-35d1-490b-c8ef-9e15133f4f84"
      },
      "execution_count": null,
      "outputs": [
        {
          "metadata": {
            "tags": null
          },
          "name": "stdout",
          "output_type": "stream",
          "text": [
            "Number of Trades:  978\n"
          ]
        }
      ]
    },
    {
      "cell_type": "code",
      "source": [
        "# Win ratio\n",
        "win_ratio = len([result for result in trade_results if result > 0]) / len(trade_results) if number_of_trades > 0 else np.nan\n",
        "print(\"Win Ratio: \", win_ratio)"
      ],
      "metadata": {
        "colab": {
          "base_uri": "https://localhost:8080/"
        },
        "id": "zK66w_9M4jfT",
        "outputId": "fda92c0b-0fd3-471d-8599-bd49cdd0acf9"
      },
      "execution_count": null,
      "outputs": [
        {
          "metadata": {
            "tags": null
          },
          "name": "stdout",
          "output_type": "stream",
          "text": [
            "Win Ratio:  0.24233128834355827\n"
          ]
        }
      ]
    },
    {
      "cell_type": "markdown",
      "source": [
        "# **STOCK SENTIMENT ANALYSIS OF GOOGLE**"
      ],
      "metadata": {
        "id": "92wgW-zjxdF3"
      }
    },
    {
      "cell_type": "markdown",
      "source": [
        "# *News*"
      ],
      "metadata": {
        "id": "om4m4mBZyT-D"
      }
    },
    {
      "cell_type": "code",
      "execution_count": null,
      "metadata": {
        "colab": {
          "base_uri": "https://localhost:8080/"
        },
        "outputId": "83429c72-0171-4c09-d55e-d1155fd4a98f",
        "id": "MJBSnW1bx5mV"
      },
      "outputs": [
        {
          "output_type": "stream",
          "name": "stdout",
          "text": [
            "\n",
            "DataFrame after converting dates:\n",
            "\n",
            "DataFrame after renaming 'date' to 'Date':\n"
          ]
        }
      ],
      "source": [
        "import requests\n",
        "from bs4 import BeautifulSoup\n",
        "import pandas as pd\n",
        "import numpy as np\n",
        "final = pd.DataFrame()\n",
        "for j in range(1,201):\n",
        "  webpage = requests.get(f'https://markets.businessinsider.com/news/googl-stock?p={j}&')\n",
        "  soup = BeautifulSoup(webpage.content, 'lxml')\n",
        "  company = soup.find_all('div', class_=\"latest-news__story\")\n",
        "  news = []\n",
        "  date = []\n",
        "\n",
        "  for i in company:\n",
        "    try:\n",
        "      news.append(i.find('a', class_=\"news-link\").text.strip())\n",
        "    except:\n",
        "      news.append(np.nan)\n",
        "    try:\n",
        "      date.append(i.find(class_=\"latest-news__date\").text.strip())\n",
        "    except:\n",
        "      date.append(np.nan)\n",
        "\n",
        "  df = pd.DataFrame({'news': news, 'date': date})\n",
        "  final = pd.concat([final,df], ignore_index=True)\n",
        "\n",
        "from google.colab import files\n",
        "from datetime import datetime, timedelta\n",
        "# Function to convert relative date to absolute date\n",
        "def convert_to_absolute_date(relative_date):\n",
        "  if relative_date is not None and isinstance(relative_date, str):  # Check if relative_date is not None and is a string\n",
        "    if 'd' in relative_date:\n",
        "      days_ago = int(relative_date.replace(',','').replace('d',''))  # Extract the number of days (remove 'd')\n",
        "      absolute_date = datetime.now() - timedelta(days=days_ago)  # Compute the absolute date\n",
        "      return absolute_date.strftime('%Y-%m-%d')  # Format as yyyy-mm-dd\n",
        "    elif 'h' in relative_date:\n",
        "      hours_ago = int(relative_date.replace(',','').replace('h',''))  # Extract the number of hours (remove 'h')\n",
        "      absolute_date = datetime.now() - timedelta(hours=hours_ago)  # Compute the absolute date\n",
        "      return absolute_date.strftime('%Y-%m-%d')  # Format as yyyy-mm-dd\n",
        "  return relative_date  # Return the original value if it's not a string or is None\n",
        "\n",
        "final['date'] = final['date'].apply(convert_to_absolute_date)\n",
        "print(\"\\nDataFrame after converting dates:\")\n",
        "final.rename(columns={'date': 'Date'}, inplace=True)\n",
        "print(\"\\nDataFrame after renaming 'date' to 'Date':\")\n",
        "\n",
        " # Save the DataFrame to CSV\n",
        "final.to_csv('google_news.csv', index=False)"
      ]
    },
    {
      "cell_type": "markdown",
      "source": [
        "## *Stocks Data*"
      ],
      "metadata": {
        "id": "kAVBMnS8zeZn"
      }
    },
    {
      "cell_type": "code",
      "execution_count": null,
      "metadata": {
        "colab": {
          "base_uri": "https://localhost:8080/",
          "height": 53
        },
        "outputId": "b9c71c56-3bc0-4170-b510-0dc7736492ed",
        "id": "XZLEkKXHyexm"
      },
      "outputs": [
        {
          "metadata": {
            "tags": null
          },
          "name": "stdout",
          "output_type": "stream",
          "text": [
            "Stock data saved to GOOG_stock_data.csv\n"
          ]
        },
        {
          "data": {
            "application/javascript": [
              "\n",
              "    async function download(id, filename, size) {\n",
              "      if (!google.colab.kernel.accessAllowed) {\n",
              "        return;\n",
              "      }\n",
              "      const div = document.createElement('div');\n",
              "      const label = document.createElement('label');\n",
              "      label.textContent = `Downloading \"${filename}\": `;\n",
              "      div.appendChild(label);\n",
              "      const progress = document.createElement('progress');\n",
              "      progress.max = size;\n",
              "      div.appendChild(progress);\n",
              "      document.body.appendChild(div);\n",
              "\n",
              "      const buffers = [];\n",
              "      let downloaded = 0;\n",
              "\n",
              "      const channel = await google.colab.kernel.comms.open(id);\n",
              "      // Send a message to notify the kernel that we're ready.\n",
              "      channel.send({})\n",
              "\n",
              "      for await (const message of channel.messages) {\n",
              "        // Send a message to notify the kernel that we're ready.\n",
              "        channel.send({})\n",
              "        if (message.buffers) {\n",
              "          for (const buffer of message.buffers) {\n",
              "            buffers.push(buffer);\n",
              "            downloaded += buffer.byteLength;\n",
              "            progress.value = downloaded;\n",
              "          }\n",
              "        }\n",
              "      }\n",
              "      const blob = new Blob(buffers, {type: 'application/binary'});\n",
              "      const a = document.createElement('a');\n",
              "      a.href = window.URL.createObjectURL(blob);\n",
              "      a.download = filename;\n",
              "      div.appendChild(a);\n",
              "      a.click();\n",
              "      div.remove();\n",
              "    }\n",
              "  "
            ],
            "text/plain": [
              "<IPython.core.display.Javascript object>"
            ]
          },
          "metadata": {},
          "output_type": "display_data"
        },
        {
          "data": {
            "application/javascript": [
              "download(\"download_f3330ae2-349c-4644-85c1-34f69b764939\", \"GOOG_stock_data.csv\", 255398)"
            ],
            "text/plain": [
              "<IPython.core.display.Javascript object>"
            ]
          },
          "metadata": {},
          "output_type": "display_data"
        },
        {
          "output_type": "stream",
          "name": "stdout",
          "text": [
            "Stock data saved to GOOG_stock_data.csv\n"
          ]
        },
        {
          "output_type": "display_data",
          "data": {
            "text/plain": [
              "<IPython.core.display.Javascript object>"
            ],
            "application/javascript": [
              "\n",
              "    async function download(id, filename, size) {\n",
              "      if (!google.colab.kernel.accessAllowed) {\n",
              "        return;\n",
              "      }\n",
              "      const div = document.createElement('div');\n",
              "      const label = document.createElement('label');\n",
              "      label.textContent = `Downloading \"${filename}\": `;\n",
              "      div.appendChild(label);\n",
              "      const progress = document.createElement('progress');\n",
              "      progress.max = size;\n",
              "      div.appendChild(progress);\n",
              "      document.body.appendChild(div);\n",
              "\n",
              "      const buffers = [];\n",
              "      let downloaded = 0;\n",
              "\n",
              "      const channel = await google.colab.kernel.comms.open(id);\n",
              "      // Send a message to notify the kernel that we're ready.\n",
              "      channel.send({})\n",
              "\n",
              "      for await (const message of channel.messages) {\n",
              "        // Send a message to notify the kernel that we're ready.\n",
              "        channel.send({})\n",
              "        if (message.buffers) {\n",
              "          for (const buffer of message.buffers) {\n",
              "            buffers.push(buffer);\n",
              "            downloaded += buffer.byteLength;\n",
              "            progress.value = downloaded;\n",
              "          }\n",
              "        }\n",
              "      }\n",
              "      const blob = new Blob(buffers, {type: 'application/binary'});\n",
              "      const a = document.createElement('a');\n",
              "      a.href = window.URL.createObjectURL(blob);\n",
              "      a.download = filename;\n",
              "      div.appendChild(a);\n",
              "      a.click();\n",
              "      div.remove();\n",
              "    }\n",
              "  "
            ]
          },
          "metadata": {}
        },
        {
          "output_type": "display_data",
          "data": {
            "text/plain": [
              "<IPython.core.display.Javascript object>"
            ],
            "application/javascript": [
              "download(\"download_f3330ae2-349c-4644-85c1-34f69b764939\", \"GOOG_stock_data.csv\", 255398)"
            ]
          },
          "metadata": {}
        }
      ],
      "source": [
        "import yfinance as yf\n",
        "import pandas as pd\n",
        "from google.colab import files\n",
        "\n",
        "# Function to fetch stock data\n",
        "def fetch_stock_data(ticker, period='1mo', interval='1d'):\n",
        "    \"\"\"\n",
        "    Fetch stock data for a given ticker symbol.\n",
        "\n",
        "    Parameters:\n",
        "    - ticker: String, the ticker symbol of the stock (e.g., 'AAPL' for Apple Inc.).\n",
        "    - period: String, the period to fetch data for (e.g., '1d' for 1 day, '1mo' for 1 month).\n",
        "    - interval: String, the interval between data points (e.g., '1m' for 1 minute, '1d' for 1 day).\n",
        "\n",
        "    Returns:\n",
        "    - DataFrame, containing the fetched stock data.\n",
        "    \"\"\"\n",
        "    try:\n",
        "        # Initialize Ticker object\n",
        "        stock = yf.Ticker(ticker)\n",
        "\n",
        "        # Fetch historical market data\n",
        "        data = stock.history(period=period, interval=interval)\n",
        "\n",
        "        # Reset index to bring the date column into the DataFrame\n",
        "        data.reset_index(inplace=True)\n",
        "\n",
        "        # Convert the 'Date' column to datetime without time\n",
        "        data['Date'] = pd.to_datetime(data['Date']).dt.date\n",
        "\n",
        "        return data\n",
        "    except Exception as e:\n",
        "        print(f\"An error occurred: {e}\")\n",
        "        return None\n",
        "ticker = 'GOOG'   # Ticker symbol for Google Inc.\n",
        "period = '10y'    # Fetch data for the last 10 years\n",
        "interval = '1d'   # Daily data\n",
        "\n",
        "# Fetch stock data for Apple Inc.\n",
        "stock_data = fetch_stock_data(ticker, period=period, interval=interval)\n",
        "\n",
        "# Convert to DataFrame and save to CSV\n",
        "if stock_data is not None:\n",
        "    stock_data_df = pd.DataFrame(stock_data)\n",
        "\n",
        "    # Save DataFrame to a CSV file\n",
        "    csv_file_path = f\"{ticker}_stock_data.csv\"\n",
        "    stock_data_df.to_csv(csv_file_path, index=False)  # Save without index\n",
        "    print(f\"Stock data saved to {csv_file_path}\")\n",
        "\n",
        "    # Download the CSV file to your local machine\n",
        "    files.download(csv_file_path)\n",
        "else:\n",
        "    print(\"Failed to fetch stock data.\")"
      ]
    },
    {
      "cell_type": "markdown",
      "source": [
        "## *Sentiment Analysis*"
      ],
      "metadata": {
        "id": "wtbnJPoVzlJr"
      }
    },
    {
      "cell_type": "code",
      "source": [
        "import pandas as pd\n",
        "import numpy as np\n",
        "from textblob import TextBlob\n",
        "import re\n",
        "from vaderSentiment.vaderSentiment import SentimentIntensityAnalyzer\n",
        "from sklearn.model_selection import train_test_split\n",
        "from sklearn.metrics import accuracy_score, classification_report\n",
        "from sklearn.discriminant_analysis import LinearDiscriminantAnalysis\n",
        "df1 = pd.read_csv('google_news.csv')\n",
        "df2 = pd.read_csv('GOOG_stock_data.csv')\n",
        "merge = df1.merge(df2, how='inner', on='Date')\n",
        "# To get subjectivity\n",
        "def getSubjectivity(text):\n",
        "  return TextBlob(text).sentiment.subjectivity\n",
        "\n",
        "# To get polarity\n",
        "def getPolarity(text):\n",
        "  return TextBlob(text).sentiment.polarity\n",
        "\n",
        "merge['Subjectivity'] = merge['news'].apply(getSubjectivity)\n",
        "merge['Polarity'] = merge['news'].apply(getPolarity)\n",
        "\n",
        "def getSIA(text):\n",
        "  sia = SentimentIntensityAnalyzer()\n",
        "  sentiment = sia.polarity_scores(text)\n",
        "  return sentiment\n",
        "\n",
        "compound = []\n",
        "neg = []\n",
        "neu = []\n",
        "pos = []\n",
        "SIA = 0\n",
        "\n",
        "for i in range(0, len(merge['news'])):\n",
        "  SIA = getSIA(merge['news'][i])\n",
        "  compound.append(SIA['compound'])\n",
        "  neg.append(SIA['neg'])\n",
        "  neu.append(SIA['neu'])\n",
        "  pos.append(SIA['pos'])\n",
        "\n",
        "merge['Compound'] = compound\n",
        "merge['Negative'] = neg\n",
        "merge['Neutral'] = neu\n",
        "merge['Positive'] = pos\n",
        "\n",
        "#Creating list of column\n",
        "keep_columns = ['Open', 'High', 'Low', 'Close', 'Volume', 'Subjectivity', 'Polarity', 'Compound', 'Negative', 'Neutral', 'Positive']\n",
        "df = merge[keep_columns]\n",
        "\n",
        "df['Labels'] = (df['Close'].shift(-1) >= df['Close']).astype(int)\n",
        "\n",
        "# Drop the last row with NaN in 'labels'\n",
        "df = df.dropna(subset=['Labels'])\n",
        "\n",
        "#Create feature dataset\n",
        "x = df\n",
        "x = np.array(x.drop(['Labels'], axis=1))\n",
        "#Create the target dataset\n",
        "y = np.array(df['Labels'])\n",
        "\n",
        "#splitting data into 80% training and 20% testing data sets\n",
        "x_train, x_test, y_train, y_test = train_test_split(x, y, test_size=0.2, random_state=0)\n",
        "\n",
        "model = LinearDiscriminantAnalysis().fit(x_train, y_train)\n",
        "\n",
        "#Show the model predictions\n",
        "predictions = model.predict(x_test)\n",
        "predictions"
      ],
      "metadata": {
        "id": "_WN__jcZzpFy"
      },
      "execution_count": null,
      "outputs": []
    },
    {
      "cell_type": "code",
      "source": [
        "y_test"
      ],
      "metadata": {
        "colab": {
          "base_uri": "https://localhost:8080/"
        },
        "id": "bLJxhEIv1Jjv",
        "outputId": "c78cd7ad-48ea-4511-a7fb-4f2c8addbfe0"
      },
      "execution_count": null,
      "outputs": [
        {
          "output_type": "execute_result",
          "data": {
            "text/plain": [
              "array([1, 1, 1, ..., 1, 1, 1])"
            ]
          },
          "metadata": {},
          "execution_count": 51
        }
      ]
    },
    {
      "cell_type": "code",
      "source": [
        "# Model Metrics\n",
        "print(classification_report(y_test, predictions))"
      ],
      "metadata": {
        "colab": {
          "base_uri": "https://localhost:8080/"
        },
        "id": "YQFyfL3G1nGO",
        "outputId": "fccbaa5d-a698-45f8-ba2b-75a332c4631e"
      },
      "execution_count": null,
      "outputs": [
        {
          "output_type": "stream",
          "name": "stdout",
          "text": [
            "              precision    recall  f1-score   support\n",
            "\n",
            "           0       0.00      0.00      0.00       115\n",
            "           1       0.93      1.00      0.97      1639\n",
            "\n",
            "    accuracy                           0.93      1754\n",
            "   macro avg       0.47      0.50      0.48      1754\n",
            "weighted avg       0.87      0.93      0.90      1754\n",
            "\n"
          ]
        },
        {
          "output_type": "stream",
          "name": "stderr",
          "text": [
            "/usr/local/lib/python3.10/dist-packages/sklearn/metrics/_classification.py:1344: UndefinedMetricWarning: Precision and F-score are ill-defined and being set to 0.0 in labels with no predicted samples. Use `zero_division` parameter to control this behavior.\n",
            "  _warn_prf(average, modifier, msg_start, len(result))\n",
            "/usr/local/lib/python3.10/dist-packages/sklearn/metrics/_classification.py:1344: UndefinedMetricWarning: Precision and F-score are ill-defined and being set to 0.0 in labels with no predicted samples. Use `zero_division` parameter to control this behavior.\n",
            "  _warn_prf(average, modifier, msg_start, len(result))\n",
            "/usr/local/lib/python3.10/dist-packages/sklearn/metrics/_classification.py:1344: UndefinedMetricWarning: Precision and F-score are ill-defined and being set to 0.0 in labels with no predicted samples. Use `zero_division` parameter to control this behavior.\n",
            "  _warn_prf(average, modifier, msg_start, len(result))\n"
          ]
        }
      ]
    },
    {
      "cell_type": "code",
      "source": [
        "# Model Metrics\n",
        "from sklearn.metrics import classification_report, confusion_matrix, accuracy_score\n",
        "print(classification_report(y_test, predictions))\n",
        "\n",
        "# Calculate accuracy using the score method\n",
        "accuracy_score_method = model.score(x_test, y_test)\n",
        "print(\"Accuracy using score method:\", accuracy_score_method)\n",
        "\n",
        "# Calculate accuracy using accuracy_score\n",
        "accuracy = accuracy_score(y_test, predictions)\n",
        "print(\"Accuracy using accuracy_score:\", accuracy)\n",
        "\n",
        "# Compute confusion matrix\n",
        "conf_matrix = confusion_matrix(y_test, predictions) # Import confusion_matrix\n",
        "print(\"Confusion Matrix:\\n\", conf_matrix)\n",
        "\n",
        "# Calculate accuracy from confusion matrix\n",
        "accuracy_from_confusion_matrix = conf_matrix.diagonal().sum() / conf_matrix.sum()\n",
        "print(\"Accuracy from confusion matrix:\", accuracy_from_confusion_matrix)\n",
        "\n",
        "import pandas as pd\n",
        "from sklearn.discriminant_analysis import LinearDiscriminantAnalysis\n",
        "from sklearn.model_selection import train_test_split\n",
        "from sklearn.metrics import recall_score, f1_score, roc_curve, roc_auc_score, auc\n",
        "import matplotlib.pyplot as plt\n",
        "# Calculate recall\n",
        "recall = recall_score(y_test, predictions)\n",
        "print(\"Recall:\", recall)\n",
        "\n",
        "f1 = f1_score(y_test, predictions)\n",
        "print(\"F1-score:\", f1)\n",
        "\n",
        "#ROC CURVE ANALYSIS\n",
        "\n",
        "prob_predictions = model.predict_proba(x_test)[:, 1]\n",
        "\n",
        "fpr, tpr, thresholds = roc_curve(y_test, prob_predictions)\n",
        "roc_auc = auc(fpr, tpr)\n",
        "print(\"ROC AUC:\", roc_auc)\n",
        "\n",
        "# Plot ROC curve\n",
        "plt.figure()\n",
        "plt.plot(fpr, tpr, color='blue', lw=2, label=f'ROC curve (area = {roc_auc:.2f})')\n",
        "plt.plot([0, 1], [0, 1], color='grey', lw=2, linestyle='--')\n",
        "plt.xlim([0.0, 1.0])\n",
        "plt.ylim([0.0, 1.05])\n",
        "plt.xlabel('False Positive Rate')\n",
        "plt.ylabel('True Positive Rate')\n",
        "plt.title('Receiver Operating Characteristic (ROC) Curve')\n",
        "plt.legend(loc='lower right')\n",
        "plt.grid()\n",
        "plt.show()\n",
        "\n",
        "# Initialize buy/sell points\n",
        "df['signal'] = 0\n",
        "df['signal'][df['Compound'] > 0] = 1  # Buy signal\n",
        "df['signal'][df['Compound'] < 0] = -1  # Sell signal\n",
        "\n",
        "# Carry forward the last signal if no signal on the current day\n",
        "df['position'] = df['signal'].replace(to_replace=0, method='ffill')\n",
        "\n",
        "# Initial capital\n",
        "initial_capital = 10000\n",
        "shares = 0\n",
        "capital = initial_capital\n",
        "portfolio_value = []\n",
        "trade_results = []\n",
        "\n",
        "# Iterate through the DataFrame to simulate trading\n",
        "for index, row in df.iterrows():\n",
        "    if row['position'] == 1 and shares == 0:  # Buy\n",
        "        shares = capital / row['Close']\n",
        "        capital = 0\n",
        "        buy_price = row['Close']\n",
        "        trade_results.append(0)\n",
        "    elif row['position'] == -1 and shares > 0:  # Sell\n",
        "        capital = shares * row['Close']\n",
        "        shares = 0\n",
        "        trade_results[-1] = row['Close'] - buy_price\n",
        "    portfolio_value.append(capital + shares * row['Close'])\n",
        "\n",
        "df['portfolio_value'] = portfolio_value\n",
        "\n",
        "# Calculate returns\n",
        "df['daily_return'] = df['portfolio_value'].pct_change().fillna(0)\n",
        "df['cumulative_return'] = (1 + df['daily_return']).cumprod() - 1\n",
        "final_portfolio_value = df['portfolio_value'].iloc[-1]\n",
        "total_return = df['cumulative_return'].iloc[-1]\n",
        "\n",
        "print(df[['Close', 'Compound', 'signal', 'portfolio_value', 'cumulative_return']])\n",
        "print(\"Final Portfolio Value: \", final_portfolio_value)\n",
        "print(\"Total Return: \", total_return)"
      ],
      "metadata": {
        "colab": {
          "base_uri": "https://localhost:8080/",
          "height": 1000
        },
        "id": "RbnSz3Nv1n5p",
        "outputId": "1409f4c6-fa34-46e7-b7e0-52246e70de8c"
      },
      "execution_count": null,
      "outputs": [
        {
          "output_type": "stream",
          "name": "stderr",
          "text": [
            "/usr/local/lib/python3.10/dist-packages/sklearn/metrics/_classification.py:1344: UndefinedMetricWarning: Precision and F-score are ill-defined and being set to 0.0 in labels with no predicted samples. Use `zero_division` parameter to control this behavior.\n",
            "  _warn_prf(average, modifier, msg_start, len(result))\n",
            "/usr/local/lib/python3.10/dist-packages/sklearn/metrics/_classification.py:1344: UndefinedMetricWarning: Precision and F-score are ill-defined and being set to 0.0 in labels with no predicted samples. Use `zero_division` parameter to control this behavior.\n",
            "  _warn_prf(average, modifier, msg_start, len(result))\n",
            "/usr/local/lib/python3.10/dist-packages/sklearn/metrics/_classification.py:1344: UndefinedMetricWarning: Precision and F-score are ill-defined and being set to 0.0 in labels with no predicted samples. Use `zero_division` parameter to control this behavior.\n",
            "  _warn_prf(average, modifier, msg_start, len(result))\n"
          ]
        },
        {
          "output_type": "stream",
          "name": "stdout",
          "text": [
            "              precision    recall  f1-score   support\n",
            "\n",
            "           0       0.00      0.00      0.00       115\n",
            "           1       0.93      1.00      0.97      1639\n",
            "\n",
            "    accuracy                           0.93      1754\n",
            "   macro avg       0.47      0.50      0.48      1754\n",
            "weighted avg       0.87      0.93      0.90      1754\n",
            "\n",
            "Accuracy using score method: 0.9344355758266819\n",
            "Accuracy using accuracy_score: 0.9344355758266819\n",
            "Confusion Matrix:\n",
            " [[   0  115]\n",
            " [   0 1639]]\n",
            "Accuracy from confusion matrix: 0.9344355758266819\n",
            "Recall: 1.0\n",
            "F1-score: 0.9661066902446213\n",
            "ROC AUC: 0.6927633498686898\n"
          ]
        },
        {
          "output_type": "display_data",
          "data": {
            "text/plain": [
              "<Figure size 640x480 with 1 Axes>"
            ],
            "image/png": "[encoded data removed]"
          },
          "metadata": {}
        },
        {
          "output_type": "stream",
          "name": "stderr",
          "text": [
            "<ipython-input-65-045f04c44cbe>:56: SettingWithCopyWarning: \n",
            "A value is trying to be set on a copy of a slice from a DataFrame\n",
            "\n",
            "See the caveats in the documentation: https://pandas.pydata.org/pandas-docs/stable/user_guide/indexing.html#returning-a-view-versus-a-copy\n",
            "  df['signal'][df['Compound'] > 0] = 1  # Buy signal\n",
            "<ipython-input-65-045f04c44cbe>:57: SettingWithCopyWarning: \n",
            "A value is trying to be set on a copy of a slice from a DataFrame\n",
            "\n",
            "See the caveats in the documentation: https://pandas.pydata.org/pandas-docs/stable/user_guide/indexing.html#returning-a-view-versus-a-copy\n",
            "  df['signal'][df['Compound'] < 0] = -1  # Sell signal\n"
          ]
        },
        {
          "output_type": "stream",
          "name": "stdout",
          "text": [
            "           Close  Compound  signal  portfolio_value  cumulative_return\n",
            "0     214.289993    0.2500       1     10000.000000           0.000000\n",
            "1     214.289993   -0.0516      -1     10000.000000           0.000000\n",
            "2     214.289993   -0.2500      -1     10000.000000           0.000000\n",
            "3     214.289993    0.5994       1     10000.000000           0.000000\n",
            "4     214.289993   -0.2263      -1     10000.000000           0.000000\n",
            "...          ...       ...     ...              ...                ...\n",
            "8764   77.530304    0.0000       0      3541.072168          -0.645893\n",
            "8765   77.530304    0.4168       1      3541.072168          -0.645893\n",
            "8766   77.530304    0.0000       0      3541.072168          -0.645893\n",
            "8767   77.530304    0.0000       0      3541.072168          -0.645893\n",
            "8768   77.530304    0.4404       1      3541.072168          -0.645893\n",
            "\n",
            "[8769 rows x 5 columns]\n",
            "Final Portfolio Value:  3541.072167917385\n",
            "Total Return:  -0.6458927832082619\n"
          ]
        }
      ]
    },
    {
      "cell_type": "code",
      "source": [
        "# Plot close prices and portfolio value with buy/sell signals\n",
        "plt.figure(figsize=(14, 7))\n",
        "plt.plot(df.index, df['Close'], label='Close Price', color='blue')\n",
        "plt.plot(df.index, df['portfolio_value'], label='Portfolio Value', color='green')\n",
        "\n",
        "# Mark buy/sell signals\n",
        "buy_signals = df[df['signal'] == 1]\n",
        "sell_signals = df[df['signal'] == -1]\n",
        "plt.scatter(buy_signals.index, buy_signals['Close'], marker='^', color='green', label='Buy Signal')\n",
        "plt.scatter(sell_signals.index, sell_signals['Close'], marker='v', color='red', label='Sell Signal')\n",
        "\n",
        "plt.title('Stock Price, Buy/Sell Points and Portfolio Value')\n",
        "plt.xlabel('Date')\n",
        "plt.ylabel('Price')\n",
        "plt.legend()\n",
        "plt.grid()\n",
        "plt.show()\n",
        "\n",
        "# Calculate returns\n",
        "df['daily_return'] = df['portfolio_value'].pct_change().fillna(0)\n",
        "df['cumulative_return'] = (1 + df['daily_return']).cumprod() - 1\n",
        "final_portfolio_value = df['portfolio_value'].iloc[-1]\n",
        "total_return = df['cumulative_return'].iloc[-1]\n",
        "print(\"Total Return: \", total_return)\n",
        "\n",
        "# Sharpe ratio\n",
        "risk_free_rate = 0.02  # Example risk-free rate\n",
        "annualized_return = df['daily_return'].mean() * 252  # Assuming 252 trading days in a year\n",
        "annualized_volatility = df['daily_return'].std() * np.sqrt(252)\n",
        "sharpe_ratio = (annualized_return - risk_free_rate) / annualized_volatility\n",
        "print(\"Sharpe Ratio: \", sharpe_ratio)\n",
        "\n",
        "# Maximum drawdown\n",
        "df['peak'] = df['portfolio_value'].cummax()\n",
        "df['drawdown'] = (df['portfolio_value'] - df['peak']) / df['peak']\n",
        "max_drawdown = df['drawdown'].min()\n",
        "print(\"Maximum Drawdown: \", max_drawdown)\n",
        "\n",
        "# Number of trades executed\n",
        "number_of_trades = len(trade_results)\n",
        "print(\"Number of Trades: \", number_of_trades)\n",
        "\n",
        "# Win ratio\n",
        "win_ratio = len([result for result in trade_results if result > 0]) / len(trade_results) if number_of_trades > 0 else np.nan\n",
        "print(\"Win Ratio: \", win_ratio)"
      ],
      "metadata": {
        "colab": {
          "base_uri": "https://localhost:8080/",
          "height": 730
        },
        "id": "63LrVGOG2g1G",
        "outputId": "ba1f2524-cc87-479c-c7b7-d235799b8d91"
      },
      "execution_count": null,
      "outputs": [
        {
          "output_type": "display_data",
          "data": {
            "text/plain": [
              "<Figure size 1400x700 with 1 Axes>"
            ],
            "image/png": "[encoded data removed]"
          },
          "metadata": {}
        },
        {
          "output_type": "stream",
          "name": "stdout",
          "text": [
            "Total Return:  -0.6458927832082619\n",
            "Sharpe Ratio:  -0.4738341276353246\n",
            "Maximum Drawdown:  -0.745417904687082\n",
            "Number of Trades:  978\n",
            "Win Ratio:  0.24233128834355827\n"
          ]
        }
      ]
    },
    {
      "cell_type": "markdown",
      "source": [
        "# **STOCK SENTIMENT ANALYSIS OF AMAZON**"
      ],
      "metadata": {
        "id": "DCtUrPjQ4jDP"
      }
    },
    {
      "cell_type": "markdown",
      "source": [
        "## *NEWS*"
      ],
      "metadata": {
        "id": "OKdUn3a84r4O"
      }
    },
    {
      "cell_type": "code",
      "execution_count": null,
      "metadata": {
        "colab": {
          "base_uri": "https://localhost:8080/"
        },
        "outputId": "39224001-371d-47f2-fb99-7740d9788d6e",
        "id": "W_4F7YG543p2"
      },
      "outputs": [
        {
          "output_type": "stream",
          "name": "stdout",
          "text": [
            "\n",
            "DataFrame after converting dates:\n",
            "\n",
            "DataFrame after renaming 'date' to 'Date':\n"
          ]
        }
      ],
      "source": [
        "import requests\n",
        "from bs4 import BeautifulSoup\n",
        "import pandas as pd\n",
        "import numpy as np\n",
        "final = pd.DataFrame()\n",
        "for j in range(1,201):\n",
        "  webpage = requests.get(f'https://markets.businessinsider.com/news/amzn-stock?p={j}&')\n",
        "  soup = BeautifulSoup(webpage.content, 'lxml')\n",
        "  company = soup.find_all('div', class_=\"latest-news__story\")\n",
        "  news = []\n",
        "  date = []\n",
        "\n",
        "  for i in company:\n",
        "    try:\n",
        "      news.append(i.find('a', class_=\"news-link\").text.strip())\n",
        "    except:\n",
        "      news.append(np.nan)\n",
        "    try:\n",
        "      date.append(i.find(class_=\"latest-news__date\").text.strip())\n",
        "    except:\n",
        "      date.append(np.nan)\n",
        "\n",
        "  df = pd.DataFrame({'news': news, 'date': date})\n",
        "  final = pd.concat([final,df], ignore_index=True)\n",
        "\n",
        "from google.colab import files\n",
        "from datetime import datetime, timedelta\n",
        "# Function to convert relative date to absolute date\n",
        "def convert_to_absolute_date(relative_date):\n",
        "  if relative_date is not None and isinstance(relative_date, str):  # Check if relative_date is not None and is a string\n",
        "    if 'd' in relative_date:\n",
        "      days_ago = int(relative_date.replace(',','').replace('d',''))  # Extract the number of days (remove 'd')\n",
        "      absolute_date = datetime.now() - timedelta(days=days_ago)  # Compute the absolute date\n",
        "      return absolute_date.strftime('%Y-%m-%d')  # Format as yyyy-mm-dd\n",
        "    elif 'h' in relative_date:\n",
        "      hours_ago = int(relative_date.replace(',','').replace('h',''))  # Extract the number of hours (remove 'h')\n",
        "      absolute_date = datetime.now() - timedelta(hours=hours_ago)  # Compute the absolute date\n",
        "      return absolute_date.strftime('%Y-%m-%d')  # Format as yyyy-mm-dd\n",
        "  return relative_date  # Return the original value if it's not a string or is None\n",
        "\n",
        "final['date'] = final['date'].apply(convert_to_absolute_date)\n",
        "print(\"\\nDataFrame after converting dates:\")\n",
        "final.rename(columns={'date': 'Date'}, inplace=True)\n",
        "print(\"\\nDataFrame after renaming 'date' to 'Date':\")\n",
        "\n",
        " # Save the DataFrame to CSV\n",
        "final.to_csv('amazon_news.csv', index=False)"
      ]
    },
    {
      "cell_type": "markdown",
      "source": [
        "## *STOCK DATA*"
      ],
      "metadata": {
        "id": "bv6b99UK5Fbi"
      }
    },
    {
      "cell_type": "code",
      "execution_count": null,
      "metadata": {
        "colab": {
          "base_uri": "https://localhost:8080/",
          "height": 35
        },
        "outputId": "d57b4014-f7e2-42e3-b456-ccb0acd6a296",
        "id": "231tlv-Z5flW"
      },
      "outputs": [
        {
          "output_type": "stream",
          "name": "stdout",
          "text": [
            "Stock data saved to AMZN_stock_data.csv\n"
          ]
        },
        {
          "output_type": "display_data",
          "data": {
            "text/plain": [
              "<IPython.core.display.Javascript object>"
            ],
            "application/javascript": [
              "\n",
              "    async function download(id, filename, size) {\n",
              "      if (!google.colab.kernel.accessAllowed) {\n",
              "        return;\n",
              "      }\n",
              "      const div = document.createElement('div');\n",
              "      const label = document.createElement('label');\n",
              "      label.textContent = `Downloading \"${filename}\": `;\n",
              "      div.appendChild(label);\n",
              "      const progress = document.createElement('progress');\n",
              "      progress.max = size;\n",
              "      div.appendChild(progress);\n",
              "      document.body.appendChild(div);\n",
              "\n",
              "      const buffers = [];\n",
              "      let downloaded = 0;\n",
              "\n",
              "      const channel = await google.colab.kernel.comms.open(id);\n",
              "      // Send a message to notify the kernel that we're ready.\n",
              "      channel.send({})\n",
              "\n",
              "      for await (const message of channel.messages) {\n",
              "        // Send a message to notify the kernel that we're ready.\n",
              "        channel.send({})\n",
              "        if (message.buffers) {\n",
              "          for (const buffer of message.buffers) {\n",
              "            buffers.push(buffer);\n",
              "            downloaded += buffer.byteLength;\n",
              "            progress.value = downloaded;\n",
              "          }\n",
              "        }\n",
              "      }\n",
              "      const blob = new Blob(buffers, {type: 'application/binary'});\n",
              "      const a = document.createElement('a');\n",
              "      a.href = window.URL.createObjectURL(blob);\n",
              "      a.download = filename;\n",
              "      div.appendChild(a);\n",
              "      a.click();\n",
              "      div.remove();\n",
              "    }\n",
              "  "
            ]
          },
          "metadata": {}
        },
        {
          "output_type": "display_data",
          "data": {
            "text/plain": [
              "<IPython.core.display.Javascript object>"
            ],
            "application/javascript": [
              "download(\"download_1c1cf9c0-4e18-4551-85c9-9a0e92fe4ff5\", \"AMZN_stock_data.csv\", 249118)"
            ]
          },
          "metadata": {}
        }
      ],
      "source": [
        "import yfinance as yf\n",
        "import pandas as pd\n",
        "from google.colab import files\n",
        "\n",
        "# Function to fetch stock data\n",
        "def fetch_stock_data(ticker, period='1mo', interval='1d'):\n",
        "    \"\"\"\n",
        "    Fetch stock data for a given ticker symbol.\n",
        "\n",
        "    Parameters:\n",
        "    - ticker: String, the ticker symbol of the stock (e.g., 'AAPL' for Apple Inc.).\n",
        "    - period: String, the period to fetch data for (e.g., '1d' for 1 day, '1mo' for 1 month).\n",
        "    - interval: String, the interval between data points (e.g., '1m' for 1 minute, '1d' for 1 day).\n",
        "\n",
        "    Returns:\n",
        "    - DataFrame, containing the fetched stock data.\n",
        "    \"\"\"\n",
        "    try:\n",
        "        # Initialize Ticker object\n",
        "        stock = yf.Ticker(ticker)\n",
        "\n",
        "        # Fetch historical market data\n",
        "        data = stock.history(period=period, interval=interval)\n",
        "\n",
        "        # Reset index to bring the date column into the DataFrame\n",
        "        data.reset_index(inplace=True)\n",
        "\n",
        "        # Convert the 'Date' column to datetime without time\n",
        "        data['Date'] = pd.to_datetime(data['Date']).dt.date\n",
        "\n",
        "        return data\n",
        "    except Exception as e:\n",
        "        print(f\"An error occurred: {e}\")\n",
        "        return None\n",
        "ticker = 'AMZN'   # Ticker symbol for Amazon\n",
        "period = '10y'    # Fetch data for the last 10 years\n",
        "interval = '1d'   # Daily data\n",
        "\n",
        "# Fetch stock data for Apple Inc.\n",
        "stock_data = fetch_stock_data(ticker, period=period, interval=interval)\n",
        "\n",
        "# Convert to DataFrame and save to CSV\n",
        "if stock_data is not None:\n",
        "    stock_data_df = pd.DataFrame(stock_data)\n",
        "\n",
        "    # Save DataFrame to a CSV file\n",
        "    csv_file_path = f\"{ticker}_stock_data.csv\"\n",
        "    stock_data_df.to_csv(csv_file_path, index=False)  # Save without index\n",
        "    print(f\"Stock data saved to {csv_file_path}\")\n",
        "\n",
        "    # Download the CSV file to your local machine\n",
        "    files.download(csv_file_path)\n",
        "else:\n",
        "    print(\"Failed to fetch stock data.\")"
      ]
    },
    {
      "cell_type": "markdown",
      "source": [
        "## *SENTIMENT ANALYSIS*"
      ],
      "metadata": {
        "id": "KAxjMm0f5nLp"
      }
    },
    {
      "cell_type": "code",
      "source": [
        "import pandas as pd\n",
        "import numpy as np\n",
        "from textblob import TextBlob\n",
        "import re\n",
        "from vaderSentiment.vaderSentiment import SentimentIntensityAnalyzer\n",
        "from sklearn.model_selection import train_test_split\n",
        "from sklearn.metrics import accuracy_score, classification_report\n",
        "from sklearn.discriminant_analysis import LinearDiscriminantAnalysis\n",
        "df1 = pd.read_csv('amazon_news.csv')\n",
        "df2 = pd.read_csv('AMZN_stock_data.csv')\n",
        "merge = df1.merge(df2, how='inner', on='Date')\n",
        "# To get subjectivity\n",
        "def getSubjectivity(text):\n",
        "  return TextBlob(text).sentiment.subjectivity\n",
        "\n",
        "# To get polarity\n",
        "def getPolarity(text):\n",
        "  return TextBlob(text).sentiment.polarity\n",
        "\n",
        "merge['Subjectivity'] = merge['news'].apply(getSubjectivity)\n",
        "merge['Polarity'] = merge['news'].apply(getPolarity)\n",
        "\n",
        "def getSIA(text):\n",
        "  sia = SentimentIntensityAnalyzer()\n",
        "  sentiment = sia.polarity_scores(text)\n",
        "  return sentiment\n",
        "\n",
        "compound = []\n",
        "neg = []\n",
        "neu = []\n",
        "pos = []\n",
        "SIA = 0\n",
        "\n",
        "for i in range(0, len(merge['news'])):\n",
        "  SIA = getSIA(merge['news'][i])\n",
        "  compound.append(SIA['compound'])\n",
        "  neg.append(SIA['neg'])\n",
        "  neu.append(SIA['neu'])\n",
        "  pos.append(SIA['pos'])\n",
        "\n",
        "merge['Compound'] = compound\n",
        "merge['Negative'] = neg\n",
        "merge['Neutral'] = neu\n",
        "merge['Positive'] = pos\n",
        "\n",
        "#Creating list of column\n",
        "keep_columns = ['Open', 'High', 'Low', 'Close', 'Volume', 'Subjectivity', 'Polarity', 'Compound', 'Negative', 'Neutral', 'Positive']\n",
        "df = merge[keep_columns]\n",
        "\n",
        "df['Labels'] = (df['Close'].shift(-1) >= df['Close']).astype(int)\n",
        "\n",
        "# Drop the last row with NaN in 'labels'\n",
        "df = df.dropna(subset=['Labels'])\n",
        "\n",
        "#Create feature dataset\n",
        "x = df\n",
        "x = np.array(x.drop(['Labels'], axis=1))\n",
        "#Create the target dataset\n",
        "y = np.array(df['Labels'])\n",
        "\n",
        "#splitting data into 80% training and 20% testing data sets\n",
        "x_train, x_test, y_train, y_test = train_test_split(x, y, test_size=0.2, random_state=0)\n",
        "\n",
        "model = LinearDiscriminantAnalysis().fit(x_train, y_train)\n",
        "\n",
        "#Show the model predictions\n",
        "predictions = model.predict(x_test)\n",
        "predictions"
      ],
      "metadata": {
        "colab": {
          "base_uri": "https://localhost:8080/"
        },
        "id": "RJwBQFbO5zbY",
        "outputId": "293b0bcc-90d4-4115-9215-286d7c4049aa"
      },
      "execution_count": null,
      "outputs": [
        {
          "output_type": "stream",
          "name": "stderr",
          "text": [
            "<ipython-input-72-aca940995ea3>:50: SettingWithCopyWarning: \n",
            "A value is trying to be set on a copy of a slice from a DataFrame.\n",
            "Try using .loc[row_indexer,col_indexer] = value instead\n",
            "\n",
            "See the caveats in the documentation: https://pandas.pydata.org/pandas-docs/stable/user_guide/indexing.html#returning-a-view-versus-a-copy\n",
            "  df['Labels'] = (df['Close'].shift(-1) >= df['Close']).astype(int)\n"
          ]
        },
        {
          "output_type": "execute_result",
          "data": {
            "text/plain": [
              "array([1, 1, 1, ..., 1, 1, 1])"
            ]
          },
          "metadata": {},
          "execution_count": 72
        }
      ]
    },
    {
      "cell_type": "code",
      "source": [
        "y_test\n",
        "# Model Metrics\n",
        "print(classification_report(y_test, predictions))"
      ],
      "metadata": {
        "colab": {
          "base_uri": "https://localhost:8080/"
        },
        "id": "hBjiMZJS58zt",
        "outputId": "7ffbf2c1-763e-4332-b5dc-1f3f916b3032"
      },
      "execution_count": null,
      "outputs": [
        {
          "output_type": "stream",
          "name": "stdout",
          "text": [
            "              precision    recall  f1-score   support\n",
            "\n",
            "           0       0.00      0.00      0.00       115\n",
            "           1       0.93      1.00      0.97      1639\n",
            "\n",
            "    accuracy                           0.93      1754\n",
            "   macro avg       0.47      0.50      0.48      1754\n",
            "weighted avg       0.87      0.93      0.90      1754\n",
            "\n"
          ]
        },
        {
          "output_type": "stream",
          "name": "stderr",
          "text": [
            "/usr/local/lib/python3.10/dist-packages/sklearn/metrics/_classification.py:1344: UndefinedMetricWarning: Precision and F-score are ill-defined and being set to 0.0 in labels with no predicted samples. Use `zero_division` parameter to control this behavior.\n",
            "  _warn_prf(average, modifier, msg_start, len(result))\n",
            "/usr/local/lib/python3.10/dist-packages/sklearn/metrics/_classification.py:1344: UndefinedMetricWarning: Precision and F-score are ill-defined and being set to 0.0 in labels with no predicted samples. Use `zero_division` parameter to control this behavior.\n",
            "  _warn_prf(average, modifier, msg_start, len(result))\n",
            "/usr/local/lib/python3.10/dist-packages/sklearn/metrics/_classification.py:1344: UndefinedMetricWarning: Precision and F-score are ill-defined and being set to 0.0 in labels with no predicted samples. Use `zero_division` parameter to control this behavior.\n",
            "  _warn_prf(average, modifier, msg_start, len(result))\n"
          ]
        }
      ]
    },
    {
      "cell_type": "code",
      "source": [
        "# Model Metrics\n",
        "from sklearn.metrics import classification_report, confusion_matrix, accuracy_score\n",
        "print(classification_report(y_test, predictions))\n",
        "\n",
        "# Calculate accuracy using the score method\n",
        "accuracy_score_method = model.score(x_test, y_test)\n",
        "print(\"Accuracy using score method:\", accuracy_score_method)\n",
        "\n",
        "# Calculate accuracy using accuracy_score\n",
        "accuracy = accuracy_score(y_test, predictions)\n",
        "print(\"Accuracy using accuracy_score:\", accuracy)\n",
        "\n",
        "# Compute confusion matrix\n",
        "conf_matrix = confusion_matrix(y_test, predictions) # Import confusion_matrix\n",
        "print(\"Confusion Matrix:\\n\", conf_matrix)\n",
        "\n",
        "# Calculate accuracy from confusion matrix\n",
        "accuracy_from_confusion_matrix = conf_matrix.diagonal().sum() / conf_matrix.sum()\n",
        "print(\"Accuracy from confusion matrix:\", accuracy_from_confusion_matrix)\n",
        "\n",
        "import pandas as pd\n",
        "from sklearn.discriminant_analysis import LinearDiscriminantAnalysis\n",
        "from sklearn.model_selection import train_test_split\n",
        "from sklearn.metrics import recall_score, f1_score, roc_curve, roc_auc_score, auc\n",
        "import matplotlib.pyplot as plt\n",
        "# Calculate recall\n",
        "recall = recall_score(y_test, predictions)\n",
        "print(\"Recall:\", recall)\n",
        "\n",
        "f1 = f1_score(y_test, predictions)\n",
        "print(\"F1-score:\", f1)\n",
        "\n",
        "#ROC CURVE ANALYSIS\n",
        "\n",
        "prob_predictions = model.predict_proba(x_test)[:, 1]\n",
        "\n",
        "fpr, tpr, thresholds = roc_curve(y_test, prob_predictions)\n",
        "roc_auc = auc(fpr, tpr)\n",
        "print(\"ROC AUC:\", roc_auc)\n",
        "\n",
        "# Plot ROC curve\n",
        "plt.figure()\n",
        "plt.plot(fpr, tpr, color='blue', lw=2, label=f'ROC curve (area = {roc_auc:.2f})')\n",
        "plt.plot([0, 1], [0, 1], color='grey', lw=2, linestyle='--')\n",
        "plt.xlim([0.0, 1.0])\n",
        "plt.ylim([0.0, 1.05])\n",
        "plt.xlabel('False Positive Rate')\n",
        "plt.ylabel('True Positive Rate')\n",
        "plt.title('Receiver Operating Characteristic (ROC) Curve')\n",
        "plt.legend(loc='lower right')\n",
        "plt.grid()\n",
        "plt.show()\n",
        "\n",
        "# Initialize buy/sell points\n",
        "df['signal'] = 0\n",
        "df['signal'][df['Compound'] > 0] = 1  # Buy signal\n",
        "df['signal'][df['Compound'] < 0] = -1  # Sell signal\n",
        "\n",
        "# Carry forward the last signal if no signal on the current day\n",
        "df['position'] = df['signal'].replace(to_replace=0, method='ffill')\n",
        "\n",
        "# Initial capital\n",
        "initial_capital = 10000\n",
        "shares = 0\n",
        "capital = initial_capital\n",
        "portfolio_value = []\n",
        "trade_results = []\n",
        "\n",
        "# Iterate through the DataFrame to simulate trading\n",
        "for index, row in df.iterrows():\n",
        "    if row['position'] == 1 and shares == 0:  # Buy\n",
        "        shares = capital / row['Close']\n",
        "        capital = 0\n",
        "        buy_price = row['Close']\n",
        "        trade_results.append(0)\n",
        "    elif row['position'] == -1 and shares > 0:  # Sell\n",
        "        capital = shares * row['Close']\n",
        "        shares = 0\n",
        "        trade_results[-1] = row['Close'] - buy_price\n",
        "    portfolio_value.append(capital + shares * row['Close'])\n",
        "\n",
        "df['portfolio_value'] = portfolio_value\n",
        "\n",
        "# Calculate returns\n",
        "df['daily_return'] = df['portfolio_value'].pct_change().fillna(0)\n",
        "df['cumulative_return'] = (1 + df['daily_return']).cumprod() - 1\n",
        "final_portfolio_value = df['portfolio_value'].iloc[-1]\n",
        "total_return = df['cumulative_return'].iloc[-1]\n",
        "\n",
        "print(df[['Close', 'Compound', 'signal', 'portfolio_value', 'cumulative_return']])\n",
        "print(\"Final Portfolio Value: \", final_portfolio_value)\n",
        "print(\"Total Return: \", total_return)"
      ],
      "metadata": {
        "outputId": "a3f8f6e7-fd79-487e-bedd-06b5c42847f8",
        "colab": {
          "base_uri": "https://localhost:8080/",
          "height": 1000
        },
        "id": "Ajmqs_Oc6RJ3"
      },
      "execution_count": null,
      "outputs": [
        {
          "output_type": "stream",
          "name": "stderr",
          "text": [
            "/usr/local/lib/python3.10/dist-packages/sklearn/metrics/_classification.py:1344: UndefinedMetricWarning: Precision and F-score are ill-defined and being set to 0.0 in labels with no predicted samples. Use `zero_division` parameter to control this behavior.\n",
            "  _warn_prf(average, modifier, msg_start, len(result))\n",
            "/usr/local/lib/python3.10/dist-packages/sklearn/metrics/_classification.py:1344: UndefinedMetricWarning: Precision and F-score are ill-defined and being set to 0.0 in labels with no predicted samples. Use `zero_division` parameter to control this behavior.\n",
            "  _warn_prf(average, modifier, msg_start, len(result))\n",
            "/usr/local/lib/python3.10/dist-packages/sklearn/metrics/_classification.py:1344: UndefinedMetricWarning: Precision and F-score are ill-defined and being set to 0.0 in labels with no predicted samples. Use `zero_division` parameter to control this behavior.\n",
            "  _warn_prf(average, modifier, msg_start, len(result))\n"
          ]
        },
        {
          "output_type": "stream",
          "name": "stdout",
          "text": [
            "              precision    recall  f1-score   support\n",
            "\n",
            "           0       0.00      0.00      0.00        97\n",
            "           1       0.94      1.00      0.97      1656\n",
            "\n",
            "    accuracy                           0.94      1753\n",
            "   macro avg       0.47      0.50      0.49      1753\n",
            "weighted avg       0.89      0.94      0.92      1753\n",
            "\n",
            "Accuracy using score method: 0.9446662863662293\n",
            "Accuracy using accuracy_score: 0.9446662863662293\n",
            "Confusion Matrix:\n",
            " [[   0   97]\n",
            " [   0 1656]]\n",
            "Accuracy from confusion matrix: 0.9446662863662293\n",
            "Recall: 1.0\n",
            "F1-score: 0.9715459078908771\n",
            "ROC AUC: 0.7201429354051496\n"
          ]
        },
        {
          "output_type": "display_data",
          "data": {
            "text/plain": [
              "<Figure size 640x480 with 1 Axes>"
            ],
            "image/png": "[encoded data removed]"
          },
          "metadata": {}
        },
        {
          "output_type": "stream",
          "name": "stderr",
          "text": [
            "<ipython-input-73-045f04c44cbe>:56: SettingWithCopyWarning: \n",
            "A value is trying to be set on a copy of a slice from a DataFrame\n",
            "\n",
            "See the caveats in the documentation: https://pandas.pydata.org/pandas-docs/stable/user_guide/indexing.html#returning-a-view-versus-a-copy\n",
            "  df['signal'][df['Compound'] > 0] = 1  # Buy signal\n",
            "<ipython-input-73-045f04c44cbe>:57: SettingWithCopyWarning: \n",
            "A value is trying to be set on a copy of a slice from a DataFrame\n",
            "\n",
            "See the caveats in the documentation: https://pandas.pydata.org/pandas-docs/stable/user_guide/indexing.html#returning-a-view-versus-a-copy\n",
            "  df['signal'][df['Compound'] < 0] = -1  # Sell signal\n"
          ]
        },
        {
          "output_type": "stream",
          "name": "stdout",
          "text": [
            "           Close  Compound  signal  portfolio_value  cumulative_return\n",
            "0     182.809998    0.7269       1     10000.000000           0.000000\n",
            "1     182.809998    0.3818       1     10000.000000           0.000000\n",
            "2     182.809998    0.0000       0     10000.000000           0.000000\n",
            "3     182.809998    0.2023       1     10000.000000           0.000000\n",
            "4     182.809998   -0.0772      -1     10000.000000           0.000000\n",
            "...          ...       ...     ...              ...                ...\n",
            "8760  164.332504    0.3400       1      5194.555202          -0.480544\n",
            "8761  164.332504    0.7783       1      5194.555202          -0.480544\n",
            "8762  164.332504    0.0000       0      5194.555202          -0.480544\n",
            "8763  164.332504    0.0000       0      5194.555202          -0.480544\n",
            "8764  159.527496   -0.1779      -1      5042.668762          -0.495733\n",
            "\n",
            "[8765 rows x 5 columns]\n",
            "Final Portfolio Value:  5042.668762156482\n",
            "Total Return:  -0.4957331237843511\n"
          ]
        }
      ]
    },
    {
      "cell_type": "code",
      "source": [
        "# Plot close prices and portfolio value with buy/sell signals\n",
        "plt.figure(figsize=(14, 7))\n",
        "plt.plot(df.index, df['Close'], label='Close Price', color='blue')\n",
        "plt.plot(df.index, df['portfolio_value'], label='Portfolio Value', color='green')\n",
        "\n",
        "# Mark buy/sell signals\n",
        "buy_signals = df[df['signal'] == 1]\n",
        "sell_signals = df[df['signal'] == -1]\n",
        "plt.scatter(buy_signals.index, buy_signals['Close'], marker='^', color='green', label='Buy Signal')\n",
        "plt.scatter(sell_signals.index, sell_signals['Close'], marker='v', color='red', label='Sell Signal')\n",
        "\n",
        "plt.title('Stock Price, Buy/Sell Points and Portfolio Value')\n",
        "plt.xlabel('Date')\n",
        "plt.ylabel('Price')\n",
        "plt.legend()\n",
        "plt.grid()\n",
        "plt.show()\n",
        "\n",
        "# Calculate returns\n",
        "df['daily_return'] = df['portfolio_value'].pct_change().fillna(0)\n",
        "df['cumulative_return'] = (1 + df['daily_return']).cumprod() - 1\n",
        "final_portfolio_value = df['portfolio_value'].iloc[-1]\n",
        "total_return = df['cumulative_return'].iloc[-1]\n",
        "print(\"Total Return: \", total_return)\n",
        "\n",
        "# Sharpe ratio\n",
        "risk_free_rate = 0.02  # Example risk-free rate\n",
        "annualized_return = df['daily_return'].mean() * 252  # Assuming 252 trading days in a year\n",
        "annualized_volatility = df['daily_return'].std() * np.sqrt(252)\n",
        "sharpe_ratio = (annualized_return - risk_free_rate) / annualized_volatility\n",
        "print(\"Sharpe Ratio: \", sharpe_ratio)\n",
        "\n",
        "# Maximum drawdown\n",
        "df['peak'] = df['portfolio_value'].cummax()\n",
        "df['drawdown'] = (df['portfolio_value'] - df['peak']) / df['peak']\n",
        "max_drawdown = df['drawdown'].min()\n",
        "print(\"Maximum Drawdown: \", max_drawdown)\n",
        "\n",
        "# Number of trades executed\n",
        "number_of_trades = len(trade_results)\n",
        "print(\"Number of Trades: \", number_of_trades)\n",
        "\n",
        "# Win ratio\n",
        "win_ratio = len([result for result in trade_results if result > 0]) / len(trade_results) if number_of_trades > 0 else np.nan\n",
        "print(\"Win Ratio: \", win_ratio)"
      ],
      "metadata": {
        "outputId": "ee9efc49-3832-437b-eb63-16cf953b4753",
        "colab": {
          "base_uri": "https://localhost:8080/",
          "height": 730
        },
        "id": "0MMwacV06YlO"
      },
      "execution_count": null,
      "outputs": [
        {
          "output_type": "display_data",
          "data": {
            "text/plain": [
              "<Figure size 1400x700 with 1 Axes>"
            ],
            "image/png": "[encoded data removed]"
          },
          "metadata": {}
        },
        {
          "output_type": "stream",
          "name": "stdout",
          "text": [
            "Total Return:  -0.4957331237843511\n",
            "Sharpe Ratio:  -0.3621838645926704\n",
            "Maximum Drawdown:  -0.5574829179351318\n",
            "Number of Trades:  1028\n",
            "Win Ratio:  0.2490272373540856\n"
          ]
        }
      ]
    }
  ],
  "metadata": {
    "colab": {
      "provenance": [],
      "authorship_tag": "ABX9TyNgkA5mpf0OBkDzK3HkCCph",
      "include_colab_link": true
    },
    "kernelspec": {
      "display_name": "Python 3",
      "name": "python3"
    },
    "language_info": {
      "name": "python"
    }
  },
  "nbformat": 4,
  "nbformat_minor": 0
}